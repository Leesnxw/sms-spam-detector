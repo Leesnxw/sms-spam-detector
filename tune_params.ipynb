{
 "cells": [
  {
   "cell_type": "code",
   "execution_count": 58,
   "outputs": [
    {
     "name": "stdout",
     "output_type": "stream",
     "text": [
      "\n",
      "\n",
      " 库已加载！\n"
     ]
    }
   ],
   "source": [
    "import pickle\n",
    "import pandas as pd\n",
    "import numpy as np\n",
    "from sklearn.model_selection import train_test_split\n",
    "from sklearn.svm import SVC, LinearSVC\n",
    "from sklearn.linear_model import SGDClassifier\n",
    "from sklearn.neural_network import MLPClassifier\n",
    "from sklearn.neighbors import KNeighborsClassifier\n",
    "from sklearn.naive_bayes import GaussianNB\n",
    "from sklearn.linear_model import LogisticRegression\n",
    "import matplotlib.pyplot as plt\n",
    "from sklearn.model_selection import learning_curve\n",
    "from sklearn.model_selection import GridSearchCV\n",
    "from sklearn.metrics import accuracy_score, balanced_accuracy_score\n",
    "from sklearn.metrics import precision_recall_fscore_support\n",
    "from sklearn.metrics import classification_report\n",
    "from classifier_fit import train_test_clf\n",
    "# pd.set_option('display.max_colwidth', None)\n",
    "print(\"\\n\\n 库已加载！\")"
   ],
   "metadata": {
    "collapsed": false,
    "pycharm": {
     "name": "#%%\n"
    }
   }
  },
  {
   "cell_type": "code",
   "execution_count": 59,
   "outputs": [],
   "source": [
    "with open(r\"D:\\GraduationDesign\\sms-spam-detector\\data\\spam_dic.pkl\", \"rb\") as f:\n",
    "    spam_vecs = pickle.load(f)"
   ],
   "metadata": {
    "collapsed": false,
    "pycharm": {
     "name": "#%%\n"
    }
   }
  },
  {
   "cell_type": "code",
   "execution_count": 60,
   "outputs": [
    {
     "name": "stdout",
     "output_type": "stream",
     "text": [
      "4869\n"
     ]
    }
   ],
   "source": [
    "print(len(spam_vecs['BERT']))  #4869"
   ],
   "metadata": {
    "collapsed": false,
    "pycharm": {
     "name": "#%%\n"
    }
   }
  },
  {
   "cell_type": "markdown",
   "source": [
    "## 加载预处理数据"
   ],
   "metadata": {
    "collapsed": false,
    "pycharm": {
     "name": "#%% md\n"
    }
   }
  },
  {
   "cell_type": "code",
   "execution_count": 61,
   "outputs": [
    {
     "name": "stdout",
     "output_type": "stream",
     "text": [
      "dict_keys(['BoW', 'TFIDF', 'BERT'])\n"
     ]
    }
   ],
   "source": [
    "print(spam_vecs.keys())"
   ],
   "metadata": {
    "collapsed": false,
    "pycharm": {
     "name": "#%%\n"
    }
   }
  },
  {
   "cell_type": "code",
   "execution_count": 62,
   "outputs": [],
   "source": [
    "with open(r\"D:\\GraduationDesign\\sms-spam-detector\\data\\spam_label.pkl\", \"rb\") as f:\n",
    "    spam_labels = pickle.load(f)"
   ],
   "metadata": {
    "collapsed": false,
    "pycharm": {
     "name": "#%%\n"
    }
   }
  },
  {
   "cell_type": "code",
   "execution_count": 63,
   "outputs": [
    {
     "name": "stdout",
     "output_type": "stream",
     "text": [
      "0       0\n",
      "1       0\n",
      "2       0\n",
      "3       1\n",
      "4       1\n",
      "       ..\n",
      "4864    0\n",
      "4865    0\n",
      "4866    0\n",
      "4867    0\n",
      "4868    0\n",
      "Name: label, Length: 4869, dtype: int64\n"
     ]
    }
   ],
   "source": [
    "print(spam_labels)"
   ],
   "metadata": {
    "collapsed": false,
    "pycharm": {
     "name": "#%%\n"
    }
   }
  },
  {
   "cell_type": "markdown",
   "source": [
    "## 切分数据集"
   ],
   "metadata": {
    "collapsed": false,
    "pycharm": {
     "name": "#%% md\n"
    }
   }
  },
  {
   "cell_type": "code",
   "execution_count": 64,
   "outputs": [],
   "source": [
    "X_train, X_test, y_train, y_test = train_test_split(spam_vecs['BERT'], spam_labels, test_size=0.2, shuffle=True,\n",
    "                                                    random_state=1)  # random_state=0每次分割得到不同的数组，1每次得到相同的数组\n",
    "# X_train, X_val, y_train, y_val = train_test_split(X_train_val, y_train_val, test_size=0.25, shuffle=True,\n",
    "#                                                     random_state=1)  # random_state=0每次分割得到不同的数组，1每次得到相同的数组"
   ],
   "metadata": {
    "collapsed": false,
    "pycharm": {
     "name": "#%%\n"
    }
   }
  },
  {
   "cell_type": "code",
   "execution_count": 27,
   "outputs": [],
   "source": [
    "# countVec = CountVectorizer(\n",
    "#     analyzer='word',\n",
    "#     strip_accents='ascii',\n",
    "#     tokenizer=Tokenizer.tokenize_stem,\n",
    "#     lowercase=True,\n",
    "#     stop_words=Tokenizer.english_stopwords,\n",
    "#     max_features=512,  # We set the same dim as BERT\n",
    "# )\n",
    "# pipe = Pipeline([('countVec', countVec), ('svc', SVC())])"
   ],
   "metadata": {
    "collapsed": false,
    "pycharm": {
     "name": "#%%\n"
    }
   }
  },
  {
   "cell_type": "code",
   "execution_count": 28,
   "outputs": [],
   "source": [
    "# pipe.fit(X_train, y_train)"
   ],
   "metadata": {
    "collapsed": false,
    "pycharm": {
     "name": "#%%\n"
    }
   }
  },
  {
   "cell_type": "code",
   "execution_count": 29,
   "outputs": [],
   "source": [
    "# y_pre = pipe.predict(X_test)"
   ],
   "metadata": {
    "collapsed": false,
    "pycharm": {
     "name": "#%%\n"
    }
   }
  },
  {
   "cell_type": "code",
   "execution_count": 30,
   "outputs": [],
   "source": [
    "# pipe.score(X_test, y_test)"
   ],
   "metadata": {
    "collapsed": false,
    "pycharm": {
     "name": "#%%\n"
    }
   }
  },
  {
   "cell_type": "code",
   "execution_count": 26,
   "outputs": [],
   "source": [
    "# print(len(X_test)/len(X_train))\n",
    "# print(len(X_val)/len(X_train))"
   ],
   "metadata": {
    "collapsed": false,
    "pycharm": {
     "name": "#%%\n"
    }
   }
  },
  {
   "cell_type": "code",
   "execution_count": 31,
   "outputs": [],
   "source": [
    "# print(type(X_test))"
   ],
   "metadata": {
    "collapsed": false,
    "pycharm": {
     "name": "#%%\n"
    }
   }
  },
  {
   "cell_type": "code",
   "execution_count": 32,
   "outputs": [],
   "source": [
    "# print(pipe.predict([\"2 and half years i missed your friendship:-)\"]))"
   ],
   "metadata": {
    "collapsed": false,
    "pycharm": {
     "name": "#%%\n"
    }
   }
  },
  {
   "cell_type": "markdown",
   "source": [
    "### SVC参数解释:(基于 LIBSVM)\n",
    "- C: 目标函数的惩罚系数C，用来平衡分类间隔margin和错分样本的，default C = 1.0；选择的越大，表示对错误例惩罚程度越大，可能会导致模型过拟合\n",
    "- kernel：参数选择有RBF, Linear, Poly, Sigmoid, 默认的是\"RBF\"\n",
    "- degree：if you choose 'Poly' in param 2, this is effective, degree决定了多项式的最高次幂\n",
    "- gamma：核函数的系数('Poly', 'RBF' and 'Sigmoid'), 默认是gamma = 1 / n_features\n",
    "- random_state ：用于概率估计的数据重排时的伪随机数生成器的种子\n",
    "- max_iter: 最大迭代次数，default = 1， if max_iter = -1, no limited\n",
    "- tol（default = 1e - 3）: svm结束标准的精度\n",
    "- coef0：核函数中的独立项，'RBF' and 'Poly'有效\n",
    "**调整C,kernel,gamma**"
   ],
   "metadata": {
    "collapsed": false,
    "pycharm": {
     "name": "#%% md\n"
    }
   }
  },
  {
   "cell_type": "markdown",
   "source": [
    "### LinearSVC参数解释：(基于 LIBLINEAR)\n",
    "- penalty: 指定惩罚中使用的规范\n",
    "- loss: 指定损失函数\n",
    "- dual: 选择算法以解决双优化或原始优化问题\n",
    "- tol: 公差停止标准\n",
    "- C: 错误项的惩罚参数\n",
    "**调整C**"
   ],
   "metadata": {
    "collapsed": false,
    "pycharm": {
     "name": "#%% md\n"
    }
   }
  },
  {
   "cell_type": "markdown",
   "source": [
    "### LogisticRegression参数解释：\n",
    "- penalty: 正则化选择参数，参数可选值为l1和l2，分别对应l1正则化和l2正则化，**默认是l2**正则化。一般l2就够用了\n",
    "- dual:用来指明是否将原问题改成他的对偶问题，对偶问题可以理解成相反问题，比如原问题是求解最大值的线性规划，那么他的对偶问题就是转化为求解最小值的线性规划，适用于样本较小的数据集，因样本小时，计算复杂度较低。\n",
    "- tol:残差收敛条件，默认是0.0001，也就是只需要收敛的时候两步只差＜0.0001就停止，可以设置更大或更小。(逻辑回归模型的损失函数是残差平方和)\n",
    "- C:正则化系数，正则化强度的导数，必须是一个正数，值越小，正则化强度越大，即防止过拟合的程度更大。\n",
    "- fit_intercept:是否将截距/方差加入到决策模型中，默认为True\n",
    "- class_weight:class_weight是很重要的一个参数，是用来调节正负样本比例的，默认是值为None，也就是正负样本的权重是一样的，你可以以dict的形式给模型传入任意你认为合适的权重比，也可以直接指定一个值“balanced”，模型会根据正负样本的绝对数量比来设定模型最后结果的权重比\n",
    "    比如，有一数据集的正负样本绝对数量比为4:6,如果你给参数class_weight赋予balanced值，那么最后模型结果中，正负样本的权重比就会变成6:4。\n",
    "- random_state:随机种子的设置，默认是None,如果设置了随机种子，那么每次使用的训练集和测试集都是一样的，这样不管你运行多少次，最后的准确率都是一样的；如果没有设置，那么每次都是不同的训练集和测试集，最后得出的准确率也是不一样的。\n",
    "- solver:用来指明损失函数的优化方法，默认是‘lbfgs’方法,**liblinear**适合小数据集\n",
    "**调整C,class_weight，solver**"
   ],
   "metadata": {
    "collapsed": false,
    "pycharm": {
     "name": "#%% md\n"
    }
   }
  },
  {
   "cell_type": "markdown",
   "source": [
    "### GaussianNB参数解释：\n",
    "- 无参数不需要调参"
   ],
   "metadata": {
    "collapsed": false,
    "pycharm": {
     "name": "#%% md\n"
    }
   }
  },
  {
   "cell_type": "markdown",
   "source": [
    "### SGDClassifier参数解释：\n",
    "- loss: 损失函数的类型。默认值为’hinge’\n",
    "    - ‘hinge’：合页损失函数，表示线性SVM模型\n",
    "    - ‘log’：对数损失函数，表示逻辑回归模型\n",
    "    - ‘modified_huber’：’hing’和’log’损失函数的结合，表现两者的优点\n",
    "    - ‘squared_hinge’：平方合页损失函数，表示线性SVM模型\n",
    "    - ‘perceptron’：感知机损失函数\n",
    "- penalty: 罚项类型,默认l2\n",
    "- alpha: 罚项前的系数，默认值为0.0001\n",
    "- tol: 浮点数或0.0001，可选的。训练结束的误差边界\n",
    "- learning_rate：字符串，可选的。学习速率的策略\n",
    "- class_weight: 类别的权重\n",
    "**调整参数loss,alpha,class_weight**"
   ],
   "metadata": {
    "collapsed": false,
    "pycharm": {
     "name": "#%% md\n"
    }
   }
  },
  {
   "cell_type": "markdown",
   "source": [
    "### KNeighborsClassifier参数解释：\n",
    "- n_neighbors：选取几个邻居\n",
    "- weights：邻居的权重：平均 / 越重话语权越大\n",
    "    - 'uniform'，表示不考虑距离权重这个超参数；统一的权重。每个邻域中的所有点的权重相等\n",
    "    - 'distance'，表示考虑距离权重这个超参数；权重点的距离的倒数。在这种情况下，查询点的较近的邻居将比较远的邻居具有更大的影响。\n",
    "- algorithm：\n",
    "    - 'ball_tree' will use BallTree\n",
    "    - 'kd_tree' will use KDTree\n",
    "    - 'brute' will use a brute-force search.\n",
    "    - 'auto' 默认选项，是看哪个好用那个\n",
    "- leaf_size：只有ball_tree和kd_tree才有必要\n",
    "- p与metric：距离表示，p=1是manhattan_distance，p=2是euclidean_distance\n",
    "    - 当kNN算法考虑距离权重超参数（weights='distance'）时，才会考虑是否输入距离参数（P）\n",
    "**调整n_neighbors,weights,p**"
   ],
   "metadata": {
    "collapsed": false,
    "pycharm": {
     "name": "#%% md\n"
    }
   }
  },
  {
   "cell_type": "markdown",
   "source": [
    "### MLPClassifier参数解释：\n",
    "- hidden_layer_sizes: 指定隐层，隐单元。MLP默认使用100个隐结点。[10]包含10个隐单元，[10,10]包含两个隐层，每个隐层包含10个隐单元。隐藏层节点数与层数也是紧密配合使用，能充分调节神经网络的效果。\n",
    "- activation: 指定使用的激活函数，默认的非线性是relu。”identity”、“logistic”、“tanh”以及“relu”\n",
    "- solver: 求解器,{‘lbfgs’, ‘sgd’, ‘adam’}, default=’adam’\n",
    "    - 'lbfgs' 是准牛顿方法家族中的优化器。\n",
    "    - 'sgd' 指的是随机梯度下降。\n",
    "    - “adam”指的是由 Kingma、Diederik 和 Jimmy Ba 提出的基于随机梯度的优化器\n",
    "    - 注意：就训练时间和验证分数而言，默认求解器“adam”在相对较大的数据集（具有数千个训练样本或更多）上运行良好。然而，对于小型数据集，“lbfgs”可以更快地收敛并表现更好。\n",
    "- alpha: 惩罚参数，调整l2。**模型复杂度控制**，控制正则化的程度，默认的数值是0.0001\n",
    "- max_iter: 可以指定迭代次数，增加迭代次数可以提高训练集的性能，但是没有提高泛化性能\n",
    "**调整参数hidden_layer_sizes,solver,max_iter,alpha**"
   ],
   "metadata": {
    "collapsed": false,
    "pycharm": {
     "name": "#%% md\n"
    }
   }
  },
  {
   "cell_type": "markdown",
   "source": [
    "### 定义分类器"
   ],
   "metadata": {
    "collapsed": false,
    "pycharm": {
     "name": "#%% md\n"
    }
   }
  },
  {
   "cell_type": "code",
   "execution_count": 137,
   "outputs": [],
   "source": [
    "classifiers = [\n",
    "    GaussianNB(),  # 无参数不需要调参\n",
    "    SVC(),\n",
    "    LinearSVC(),\n",
    "    LogisticRegression(),\n",
    "    SGDClassifier(),\n",
    "    KNeighborsClassifier(),\n",
    "    MLPClassifier(),\n",
    "]"
   ],
   "metadata": {
    "collapsed": false,
    "pycharm": {
     "name": "#%%\n"
    }
   }
  },
  {
   "cell_type": "code",
   "execution_count": 138,
   "outputs": [],
   "source": [
    "tune_params = [\n",
    "    [  # GaussianNB\n",
    "        {},\n",
    "    ],\n",
    "    [  # SVC\n",
    "        {\"kernel\": [\"linear\", \"rbf\"], \"gamma\": [\"scale\", 0.0001, 0.001, 0.01, 0.1], \"C\": np.logspace(0, 4, num=5)}\n",
    "    ],\n",
    "    [  # LinearSVC\n",
    "        {\"C\": np.logspace(0, 4, num=5)}\n",
    "    ],\n",
    "    [  # LogisticRegression\n",
    "        {\"C\": np.logspace(0, 4, num=5), \"class_weight\": [None, \"balanced\"]}\n",
    "    ],\n",
    "    [  # SGDClassifier\n",
    "        {\"loss\": [\"hinge\", \"squared_hinge\"], \"alpha\": np.logspace(0, 4, 5, base=0.1),\n",
    "         \"class_weight\": [None, \"balanced\"]}\n",
    "    ],\n",
    "    [  # KNeighborsClassifier\n",
    "        {\"n_neighbors\": np.arange(1, 20), \"weights\": ['uniform']},  # 20组\n",
    "        {\"n_neighbors\": np.arange(1, 20), \"weights\": ['distance'], \"p\": np.arange(1, 5)}  #20*1*4=80组\n",
    "    ],\n",
    "    [  # MLPClassifier\n",
    "        {\"hidden_layer_sizes\": [(10,), (10, 10), (100,), (100, 30)], \"solver\": [\"adam\", \"sgd\", \"lbfgs\"],\n",
    "         \"max_iter\": [50, 100, 200, 1000], \"alpha\": np.logspace(0, 4, 5, base=0.1)},\n",
    "    ],\n",
    "]"
   ],
   "metadata": {
    "collapsed": false,
    "pycharm": {
     "name": "#%%\n"
    }
   }
  },
  {
   "cell_type": "code",
   "execution_count": 139,
   "outputs": [],
   "source": [
    "from typing import Any, List, Dict\n",
    "from dataclasses import dataclass\n",
    "\n",
    "@dataclass\n",
    "class Classifier:\n",
    "    model: Any\n",
    "    tune_params: List[Dict]\n",
    "\n",
    "clfs_tune_params = []\n",
    "for i in range(len(classifiers)):\n",
    "    clfs_tune_params.append(Classifier(classifiers[i], tune_params[i]))"
   ],
   "metadata": {
    "collapsed": false,
    "pycharm": {
     "name": "#%%\n"
    }
   }
  },
  {
   "cell_type": "markdown",
   "source": [
    "### 设置分类器的超参数组合"
   ],
   "metadata": {
    "collapsed": false,
    "pycharm": {
     "name": "#%% md\n"
    }
   }
  },
  {
   "cell_type": "markdown",
   "source": [
    "使用网格搜索交叉验证寻找最优参数"
   ],
   "metadata": {
    "collapsed": false,
    "pycharm": {
     "name": "#%% md\n"
    }
   }
  },
  {
   "cell_type": "code",
   "execution_count": 140,
   "outputs": [],
   "source": [
    "gs_results = pd.DataFrame(columns=['Classifier', 'GridSearchCV', 'Best params', 'Best estimator'])"
   ],
   "metadata": {
    "collapsed": false,
    "pycharm": {
     "name": "#%%\n"
    }
   }
  },
  {
   "cell_type": "code",
   "execution_count": 141,
   "outputs": [
    {
     "name": "stdout",
     "output_type": "stream",
     "text": [
      "Empty DataFrame\n",
      "Columns: [Classifier, GridSearchCV, Best params, Best estimator]\n",
      "Index: []\n"
     ]
    }
   ],
   "source": [
    "print(gs_results.head())"
   ],
   "metadata": {
    "collapsed": false,
    "pycharm": {
     "name": "#%%\n"
    }
   }
  },
  {
   "cell_type": "code",
   "execution_count": 142,
   "outputs": [],
   "source": [
    "def clf_fit(clf):\n",
    "    print(\"Classifier: %s\" % type(clf).__name__)\n",
    "    clf.fit(X_train, y_train)\n",
    "    clf.score(X_test, y_test)\n",
    "    y_pred = clf.predict(X_test)\n",
    "    print(\"Acc: %s\" % accuracy_score(y_test, y_pred))\n",
    "    print(\"BAcc: %s\" % balanced_accuracy_score(y_test, y_pred))\n",
    "    # print(precision_recall_fscore_support(y_test, y_pred))\n",
    "    print(classification_report(y_test, y_pred))"
   ],
   "metadata": {
    "collapsed": false,
    "pycharm": {
     "name": "#%%\n"
    }
   }
  },
  {
   "cell_type": "code",
   "execution_count": 143,
   "outputs": [
    {
     "name": "stdout",
     "output_type": "stream",
     "text": [
      "\n",
      "\n",
      "------------ 网格搜索 GaussianNB 最佳参数中------------\n",
      "Fitting 5 folds for each of 1 candidates, totalling 5 fits\n",
      "{}\n",
      "0.9520722464118692\n",
      "\n",
      "\n",
      "------------ 网格搜索 SVC 最佳参数中------------\n",
      "Fitting 5 folds for each of 50 candidates, totalling 250 fits\n",
      "{'C': 100.0, 'gamma': 0.1, 'kernel': 'rbf'}\n",
      "0.9679680696661828\n",
      "\n",
      "\n",
      "------------ 网格搜索 LinearSVC 最佳参数中------------\n",
      "Fitting 5 folds for each of 5 candidates, totalling 25 fits\n",
      "{'C': 10.0}\n",
      "0.970335429769392\n",
      "\n",
      "\n",
      "------------ 网格搜索 LogisticRegression 最佳参数中------------\n",
      "Fitting 5 folds for each of 10 candidates, totalling 50 fits\n",
      "{'C': 10.0, 'class_weight': 'balanced'}\n",
      "0.973618771165941\n",
      "\n",
      "\n",
      "------------ 网格搜索 SGDClassifier 最佳参数中------------\n",
      "Fitting 5 folds for each of 20 candidates, totalling 100 fits\n",
      "{'alpha': 0.0010000000000000002, 'class_weight': 'balanced', 'loss': 'hinge'}\n",
      "0.97129656507015\n",
      "\n",
      "\n",
      "------------ 网格搜索 KNeighborsClassifier 最佳参数中------------\n",
      "Fitting 5 folds for each of 95 candidates, totalling 475 fits\n",
      "{'n_neighbors': 5, 'p': 4, 'weights': 'distance'}\n",
      "0.961927108530882\n",
      "\n",
      "\n",
      "------------ 网格搜索 MLPClassifier 最佳参数中------------\n",
      "Fitting 5 folds for each of 240 candidates, totalling 1200 fits\n",
      "{'alpha': 0.00010000000000000002, 'hidden_layer_sizes': (100, 30), 'max_iter': 100, 'solver': 'adam'}\n",
      "0.9721222383486534\n"
     ]
    }
   ],
   "source": [
    "# GridSearchCV使用交叉验证进行网格搜索，其中，n_jobs=-1代表使用计算机的全部CPU\n",
    "for clf in clfs_tune_params:\n",
    "    # clf.model.fit()\n",
    "    # clf_fit(classifiers[i])\n",
    "    gs = GridSearchCV(clf.model, clf.tune_params, verbose=2, cv=5, n_jobs=-1, scoring=\"balanced_accuracy\")\n",
    "    print(\"\\n\\n------------ 网格搜索 %s 最佳参数中------------\" % type(clf.model).__name__)\n",
    "    gs.fit(X_train, y_train)\n",
    "    # 通过交叉验证获取最好的超参数和模型评估最好的分数\n",
    "    gs_results = gs_results.append(\n",
    "        {'Classifier': type(clf.model).__name__, 'GridSearchCV': gs, 'Best params': gs.best_params_,\n",
    "         'Best estimator': gs.best_estimator_}, ignore_index=True)\n",
    "    print(gs.best_params_)\n",
    "    print(gs.best_score_)\n"
   ],
   "metadata": {
    "collapsed": false,
    "pycharm": {
     "name": "#%%\n"
    }
   }
  },
  {
   "cell_type": "code",
   "execution_count": 144,
   "outputs": [
    {
     "data": {
      "text/plain": "             Classifier                                       GridSearchCV  \\\n0            GaussianNB  GridSearchCV(cv=5, estimator=GaussianNB(), n_j...   \n1                   SVC  GridSearchCV(cv=5, estimator=SVC(), n_jobs=-1,...   \n2             LinearSVC  GridSearchCV(cv=5, estimator=LinearSVC(), n_jo...   \n3    LogisticRegression  GridSearchCV(cv=5, estimator=LogisticRegressio...   \n4         SGDClassifier  GridSearchCV(cv=5, estimator=SGDClassifier(), ...   \n5  KNeighborsClassifier  GridSearchCV(cv=5, estimator=KNeighborsClassif...   \n6         MLPClassifier  GridSearchCV(cv=5, estimator=MLPClassifier(), ...   \n\n                                         Best params  \\\n0                                                 {}   \n1        {'C': 100.0, 'gamma': 0.1, 'kernel': 'rbf'}   \n2                                        {'C': 10.0}   \n3            {'C': 10.0, 'class_weight': 'balanced'}   \n4  {'alpha': 0.0010000000000000002, 'class_weight...   \n5  {'n_neighbors': 5, 'p': 4, 'weights': 'distance'}   \n6  {'alpha': 0.00010000000000000002, 'hidden_laye...   \n\n                                      Best estimator  \n0                                       GaussianNB()  \n1                            SVC(C=100.0, gamma=0.1)  \n2                                  LinearSVC(C=10.0)  \n3  LogisticRegression(C=10.0, class_weight='balan...  \n4  SGDClassifier(alpha=0.0010000000000000002, cla...  \n5      KNeighborsClassifier(p=4, weights='distance')  \n6  MLPClassifier(alpha=0.00010000000000000002, hi...  ",
      "text/html": "<div>\n<style scoped>\n    .dataframe tbody tr th:only-of-type {\n        vertical-align: middle;\n    }\n\n    .dataframe tbody tr th {\n        vertical-align: top;\n    }\n\n    .dataframe thead th {\n        text-align: right;\n    }\n</style>\n<table border=\"1\" class=\"dataframe\">\n  <thead>\n    <tr style=\"text-align: right;\">\n      <th></th>\n      <th>Classifier</th>\n      <th>GridSearchCV</th>\n      <th>Best params</th>\n      <th>Best estimator</th>\n    </tr>\n  </thead>\n  <tbody>\n    <tr>\n      <th>0</th>\n      <td>GaussianNB</td>\n      <td>GridSearchCV(cv=5, estimator=GaussianNB(), n_j...</td>\n      <td>{}</td>\n      <td>GaussianNB()</td>\n    </tr>\n    <tr>\n      <th>1</th>\n      <td>SVC</td>\n      <td>GridSearchCV(cv=5, estimator=SVC(), n_jobs=-1,...</td>\n      <td>{'C': 100.0, 'gamma': 0.1, 'kernel': 'rbf'}</td>\n      <td>SVC(C=100.0, gamma=0.1)</td>\n    </tr>\n    <tr>\n      <th>2</th>\n      <td>LinearSVC</td>\n      <td>GridSearchCV(cv=5, estimator=LinearSVC(), n_jo...</td>\n      <td>{'C': 10.0}</td>\n      <td>LinearSVC(C=10.0)</td>\n    </tr>\n    <tr>\n      <th>3</th>\n      <td>LogisticRegression</td>\n      <td>GridSearchCV(cv=5, estimator=LogisticRegressio...</td>\n      <td>{'C': 10.0, 'class_weight': 'balanced'}</td>\n      <td>LogisticRegression(C=10.0, class_weight='balan...</td>\n    </tr>\n    <tr>\n      <th>4</th>\n      <td>SGDClassifier</td>\n      <td>GridSearchCV(cv=5, estimator=SGDClassifier(), ...</td>\n      <td>{'alpha': 0.0010000000000000002, 'class_weight...</td>\n      <td>SGDClassifier(alpha=0.0010000000000000002, cla...</td>\n    </tr>\n    <tr>\n      <th>5</th>\n      <td>KNeighborsClassifier</td>\n      <td>GridSearchCV(cv=5, estimator=KNeighborsClassif...</td>\n      <td>{'n_neighbors': 5, 'p': 4, 'weights': 'distance'}</td>\n      <td>KNeighborsClassifier(p=4, weights='distance')</td>\n    </tr>\n    <tr>\n      <th>6</th>\n      <td>MLPClassifier</td>\n      <td>GridSearchCV(cv=5, estimator=MLPClassifier(), ...</td>\n      <td>{'alpha': 0.00010000000000000002, 'hidden_laye...</td>\n      <td>MLPClassifier(alpha=0.00010000000000000002, hi...</td>\n    </tr>\n  </tbody>\n</table>\n</div>"
     },
     "execution_count": 144,
     "metadata": {},
     "output_type": "execute_result"
    }
   ],
   "source": [
    "gs_results"
   ],
   "metadata": {
    "collapsed": false,
    "pycharm": {
     "name": "#%%\n"
    }
   }
  },
  {
   "cell_type": "code",
   "execution_count": 145,
   "outputs": [],
   "source": [
    "# 保存网格搜索结果\n",
    "with open('D:\\GraduationDesign\\sms-spam-detector\\data\\gs_results.pkl', \"wb\") as f:\n",
    "    pickle.dump(gs_results, f)"
   ],
   "metadata": {
    "collapsed": false,
    "pycharm": {
     "name": "#%%\n"
    }
   }
  },
  {
   "cell_type": "code",
   "execution_count": 146,
   "outputs": [],
   "source": [
    "# 加载结果\n",
    "gs_results_reload = pickle.load(open(r'D:\\GraduationDesign\\sms-spam-detector\\data\\gs_results.pkl', \"rb\"))"
   ],
   "metadata": {
    "collapsed": false,
    "pycharm": {
     "name": "#%%\n"
    }
   }
  },
  {
   "cell_type": "code",
   "execution_count": 147,
   "outputs": [
    {
     "name": "stdout",
     "output_type": "stream",
     "text": [
      "(7, 4)\n"
     ]
    }
   ],
   "source": [
    "print(gs_results_reload.shape)"
   ],
   "metadata": {
    "collapsed": false,
    "pycharm": {
     "name": "#%%\n"
    }
   }
  },
  {
   "cell_type": "code",
   "execution_count": 148,
   "outputs": [
    {
     "name": "stdout",
     "output_type": "stream",
     "text": [
      "0.952 (+/-0.032) for {}\n",
      "\n",
      "0.958 (+/-0.027) for {'C': 1.0, 'gamma': 'scale', 'kernel': 'linear'}\n",
      "\n",
      "0.953 (+/-0.030) for {'C': 1.0, 'gamma': 'scale', 'kernel': 'rbf'}\n",
      "\n",
      "0.958 (+/-0.027) for {'C': 1.0, 'gamma': 0.0001, 'kernel': 'linear'}\n",
      "\n",
      "0.500 (+/-0.000) for {'C': 1.0, 'gamma': 0.0001, 'kernel': 'rbf'}\n",
      "\n",
      "0.958 (+/-0.027) for {'C': 1.0, 'gamma': 0.001, 'kernel': 'linear'}\n",
      "\n",
      "0.500 (+/-0.000) for {'C': 1.0, 'gamma': 0.001, 'kernel': 'rbf'}\n",
      "\n",
      "0.958 (+/-0.027) for {'C': 1.0, 'gamma': 0.01, 'kernel': 'linear'}\n",
      "\n",
      "0.521 (+/-0.015) for {'C': 1.0, 'gamma': 0.01, 'kernel': 'rbf'}\n",
      "\n",
      "0.958 (+/-0.027) for {'C': 1.0, 'gamma': 0.1, 'kernel': 'linear'}\n",
      "\n",
      "0.940 (+/-0.028) for {'C': 1.0, 'gamma': 0.1, 'kernel': 'rbf'}\n",
      "\n",
      "0.967 (+/-0.017) for {'C': 10.0, 'gamma': 'scale', 'kernel': 'linear'}\n",
      "\n",
      "0.961 (+/-0.026) for {'C': 10.0, 'gamma': 'scale', 'kernel': 'rbf'}\n",
      "\n",
      "0.967 (+/-0.017) for {'C': 10.0, 'gamma': 0.0001, 'kernel': 'linear'}\n",
      "\n",
      "0.500 (+/-0.000) for {'C': 10.0, 'gamma': 0.0001, 'kernel': 'rbf'}\n",
      "\n",
      "0.967 (+/-0.017) for {'C': 10.0, 'gamma': 0.001, 'kernel': 'linear'}\n",
      "\n",
      "0.523 (+/-0.013) for {'C': 10.0, 'gamma': 0.001, 'kernel': 'rbf'}\n",
      "\n",
      "0.967 (+/-0.017) for {'C': 10.0, 'gamma': 0.01, 'kernel': 'linear'}\n",
      "\n",
      "0.940 (+/-0.028) for {'C': 10.0, 'gamma': 0.01, 'kernel': 'rbf'}\n",
      "\n",
      "0.967 (+/-0.017) for {'C': 10.0, 'gamma': 0.1, 'kernel': 'linear'}\n",
      "\n",
      "0.964 (+/-0.017) for {'C': 10.0, 'gamma': 0.1, 'kernel': 'rbf'}\n",
      "\n",
      "0.965 (+/-0.014) for {'C': 100.0, 'gamma': 'scale', 'kernel': 'linear'}\n",
      "\n",
      "0.961 (+/-0.026) for {'C': 100.0, 'gamma': 'scale', 'kernel': 'rbf'}\n",
      "\n",
      "0.965 (+/-0.014) for {'C': 100.0, 'gamma': 0.0001, 'kernel': 'linear'}\n",
      "\n",
      "0.523 (+/-0.013) for {'C': 100.0, 'gamma': 0.0001, 'kernel': 'rbf'}\n",
      "\n",
      "0.965 (+/-0.014) for {'C': 100.0, 'gamma': 0.001, 'kernel': 'linear'}\n",
      "\n",
      "0.941 (+/-0.027) for {'C': 100.0, 'gamma': 0.001, 'kernel': 'rbf'}\n",
      "\n",
      "0.965 (+/-0.014) for {'C': 100.0, 'gamma': 0.01, 'kernel': 'linear'}\n",
      "\n",
      "0.965 (+/-0.020) for {'C': 100.0, 'gamma': 0.01, 'kernel': 'rbf'}\n",
      "\n",
      "0.965 (+/-0.014) for {'C': 100.0, 'gamma': 0.1, 'kernel': 'linear'}\n",
      "\n",
      "0.968 (+/-0.020) for {'C': 100.0, 'gamma': 0.1, 'kernel': 'rbf'}\n",
      "\n",
      "0.965 (+/-0.014) for {'C': 1000.0, 'gamma': 'scale', 'kernel': 'linear'}\n",
      "\n",
      "0.961 (+/-0.026) for {'C': 1000.0, 'gamma': 'scale', 'kernel': 'rbf'}\n",
      "\n",
      "0.965 (+/-0.014) for {'C': 1000.0, 'gamma': 0.0001, 'kernel': 'linear'}\n",
      "\n",
      "0.941 (+/-0.027) for {'C': 1000.0, 'gamma': 0.0001, 'kernel': 'rbf'}\n",
      "\n",
      "0.965 (+/-0.014) for {'C': 1000.0, 'gamma': 0.001, 'kernel': 'linear'}\n",
      "\n",
      "0.965 (+/-0.020) for {'C': 1000.0, 'gamma': 0.001, 'kernel': 'rbf'}\n",
      "\n",
      "0.965 (+/-0.014) for {'C': 1000.0, 'gamma': 0.01, 'kernel': 'linear'}\n",
      "\n",
      "0.967 (+/-0.018) for {'C': 1000.0, 'gamma': 0.01, 'kernel': 'rbf'}\n",
      "\n",
      "0.965 (+/-0.014) for {'C': 1000.0, 'gamma': 0.1, 'kernel': 'linear'}\n",
      "\n",
      "0.968 (+/-0.020) for {'C': 1000.0, 'gamma': 0.1, 'kernel': 'rbf'}\n",
      "\n",
      "0.965 (+/-0.014) for {'C': 10000.0, 'gamma': 'scale', 'kernel': 'linear'}\n",
      "\n",
      "0.961 (+/-0.026) for {'C': 10000.0, 'gamma': 'scale', 'kernel': 'rbf'}\n",
      "\n",
      "0.965 (+/-0.014) for {'C': 10000.0, 'gamma': 0.0001, 'kernel': 'linear'}\n",
      "\n",
      "0.965 (+/-0.020) for {'C': 10000.0, 'gamma': 0.0001, 'kernel': 'rbf'}\n",
      "\n",
      "0.965 (+/-0.014) for {'C': 10000.0, 'gamma': 0.001, 'kernel': 'linear'}\n",
      "\n",
      "0.965 (+/-0.014) for {'C': 10000.0, 'gamma': 0.001, 'kernel': 'rbf'}\n",
      "\n",
      "0.965 (+/-0.014) for {'C': 10000.0, 'gamma': 0.01, 'kernel': 'linear'}\n",
      "\n",
      "0.967 (+/-0.018) for {'C': 10000.0, 'gamma': 0.01, 'kernel': 'rbf'}\n",
      "\n",
      "0.965 (+/-0.014) for {'C': 10000.0, 'gamma': 0.1, 'kernel': 'linear'}\n",
      "\n",
      "0.968 (+/-0.020) for {'C': 10000.0, 'gamma': 0.1, 'kernel': 'rbf'}\n",
      "\n",
      "0.960 (+/-0.021) for {'C': 1.0}\n",
      "\n",
      "0.970 (+/-0.021) for {'C': 10.0}\n",
      "\n",
      "0.967 (+/-0.018) for {'C': 100.0}\n",
      "\n",
      "0.966 (+/-0.017) for {'C': 1000.0}\n",
      "\n",
      "0.966 (+/-0.017) for {'C': 10000.0}\n",
      "\n",
      "0.934 (+/-0.024) for {'C': 1.0, 'class_weight': None}\n",
      "\n",
      "0.972 (+/-0.022) for {'C': 1.0, 'class_weight': 'balanced'}\n",
      "\n",
      "0.958 (+/-0.023) for {'C': 10.0, 'class_weight': None}\n",
      "\n",
      "0.974 (+/-0.017) for {'C': 10.0, 'class_weight': 'balanced'}\n",
      "\n",
      "0.964 (+/-0.019) for {'C': 100.0, 'class_weight': None}\n",
      "\n",
      "0.973 (+/-0.016) for {'C': 100.0, 'class_weight': 'balanced'}\n",
      "\n",
      "0.967 (+/-0.020) for {'C': 1000.0, 'class_weight': None}\n",
      "\n",
      "0.972 (+/-0.019) for {'C': 1000.0, 'class_weight': 'balanced'}\n",
      "\n",
      "0.967 (+/-0.017) for {'C': 10000.0, 'class_weight': None}\n",
      "\n",
      "0.972 (+/-0.020) for {'C': 10000.0, 'class_weight': 'balanced'}\n",
      "\n",
      "0.500 (+/-0.000) for {'alpha': 1.0, 'class_weight': None, 'loss': 'hinge'}\n",
      "\n",
      "0.500 (+/-0.000) for {'alpha': 1.0, 'class_weight': None, 'loss': 'squared_hinge'}\n",
      "\n",
      "0.500 (+/-0.000) for {'alpha': 1.0, 'class_weight': 'balanced', 'loss': 'hinge'}\n",
      "\n",
      "0.962 (+/-0.034) for {'alpha': 1.0, 'class_weight': 'balanced', 'loss': 'squared_hinge'}\n",
      "\n",
      "0.500 (+/-0.000) for {'alpha': 0.1, 'class_weight': None, 'loss': 'hinge'}\n",
      "\n",
      "0.500 (+/-0.000) for {'alpha': 0.1, 'class_weight': None, 'loss': 'squared_hinge'}\n",
      "\n",
      "0.956 (+/-0.028) for {'alpha': 0.1, 'class_weight': 'balanced', 'loss': 'hinge'}\n",
      "\n",
      "0.963 (+/-0.030) for {'alpha': 0.1, 'class_weight': 'balanced', 'loss': 'squared_hinge'}\n",
      "\n",
      "0.796 (+/-0.054) for {'alpha': 0.010000000000000002, 'class_weight': None, 'loss': 'hinge'}\n",
      "\n",
      "0.918 (+/-0.034) for {'alpha': 0.010000000000000002, 'class_weight': None, 'loss': 'squared_hinge'}\n",
      "\n",
      "0.969 (+/-0.018) for {'alpha': 0.010000000000000002, 'class_weight': 'balanced', 'loss': 'hinge'}\n",
      "\n",
      "0.957 (+/-0.027) for {'alpha': 0.010000000000000002, 'class_weight': 'balanced', 'loss': 'squared_hinge'}\n",
      "\n",
      "0.948 (+/-0.035) for {'alpha': 0.0010000000000000002, 'class_weight': None, 'loss': 'hinge'}\n",
      "\n",
      "0.950 (+/-0.025) for {'alpha': 0.0010000000000000002, 'class_weight': None, 'loss': 'squared_hinge'}\n",
      "\n",
      "0.971 (+/-0.017) for {'alpha': 0.0010000000000000002, 'class_weight': 'balanced', 'loss': 'hinge'}\n",
      "\n",
      "0.957 (+/-0.025) for {'alpha': 0.0010000000000000002, 'class_weight': 'balanced', 'loss': 'squared_hinge'}\n",
      "\n",
      "0.964 (+/-0.010) for {'alpha': 0.00010000000000000002, 'class_weight': None, 'loss': 'hinge'}\n",
      "\n",
      "0.951 (+/-0.034) for {'alpha': 0.00010000000000000002, 'class_weight': None, 'loss': 'squared_hinge'}\n",
      "\n",
      "0.971 (+/-0.019) for {'alpha': 0.00010000000000000002, 'class_weight': 'balanced', 'loss': 'hinge'}\n",
      "\n",
      "0.953 (+/-0.024) for {'alpha': 0.00010000000000000002, 'class_weight': 'balanced', 'loss': 'squared_hinge'}\n",
      "\n",
      "0.956 (+/-0.022) for {'n_neighbors': 1, 'weights': 'uniform'}\n",
      "\n",
      "0.946 (+/-0.027) for {'n_neighbors': 2, 'weights': 'uniform'}\n",
      "\n",
      "0.958 (+/-0.016) for {'n_neighbors': 3, 'weights': 'uniform'}\n",
      "\n",
      "0.949 (+/-0.023) for {'n_neighbors': 4, 'weights': 'uniform'}\n",
      "\n",
      "0.955 (+/-0.019) for {'n_neighbors': 5, 'weights': 'uniform'}\n",
      "\n",
      "0.951 (+/-0.019) for {'n_neighbors': 6, 'weights': 'uniform'}\n",
      "\n",
      "0.952 (+/-0.020) for {'n_neighbors': 7, 'weights': 'uniform'}\n",
      "\n",
      "0.949 (+/-0.018) for {'n_neighbors': 8, 'weights': 'uniform'}\n",
      "\n",
      "0.953 (+/-0.020) for {'n_neighbors': 9, 'weights': 'uniform'}\n",
      "\n",
      "0.948 (+/-0.038) for {'n_neighbors': 10, 'weights': 'uniform'}\n",
      "\n",
      "0.953 (+/-0.030) for {'n_neighbors': 11, 'weights': 'uniform'}\n",
      "\n",
      "0.953 (+/-0.034) for {'n_neighbors': 12, 'weights': 'uniform'}\n",
      "\n",
      "0.954 (+/-0.031) for {'n_neighbors': 13, 'weights': 'uniform'}\n",
      "\n",
      "0.953 (+/-0.026) for {'n_neighbors': 14, 'weights': 'uniform'}\n",
      "\n",
      "0.954 (+/-0.022) for {'n_neighbors': 15, 'weights': 'uniform'}\n",
      "\n",
      "0.952 (+/-0.024) for {'n_neighbors': 16, 'weights': 'uniform'}\n",
      "\n",
      "0.956 (+/-0.027) for {'n_neighbors': 17, 'weights': 'uniform'}\n",
      "\n",
      "0.951 (+/-0.024) for {'n_neighbors': 18, 'weights': 'uniform'}\n",
      "\n",
      "0.952 (+/-0.025) for {'n_neighbors': 19, 'weights': 'uniform'}\n",
      "\n",
      "0.955 (+/-0.024) for {'n_neighbors': 1, 'p': 1, 'weights': 'distance'}\n",
      "\n",
      "0.956 (+/-0.022) for {'n_neighbors': 1, 'p': 2, 'weights': 'distance'}\n",
      "\n",
      "0.959 (+/-0.012) for {'n_neighbors': 1, 'p': 3, 'weights': 'distance'}\n",
      "\n",
      "0.958 (+/-0.017) for {'n_neighbors': 1, 'p': 4, 'weights': 'distance'}\n",
      "\n",
      "0.955 (+/-0.024) for {'n_neighbors': 2, 'p': 1, 'weights': 'distance'}\n",
      "\n",
      "0.956 (+/-0.022) for {'n_neighbors': 2, 'p': 2, 'weights': 'distance'}\n",
      "\n",
      "0.959 (+/-0.012) for {'n_neighbors': 2, 'p': 3, 'weights': 'distance'}\n",
      "\n",
      "0.958 (+/-0.017) for {'n_neighbors': 2, 'p': 4, 'weights': 'distance'}\n",
      "\n",
      "0.955 (+/-0.019) for {'n_neighbors': 3, 'p': 1, 'weights': 'distance'}\n",
      "\n",
      "0.959 (+/-0.014) for {'n_neighbors': 3, 'p': 2, 'weights': 'distance'}\n",
      "\n",
      "0.958 (+/-0.027) for {'n_neighbors': 3, 'p': 3, 'weights': 'distance'}\n",
      "\n",
      "0.960 (+/-0.020) for {'n_neighbors': 3, 'p': 4, 'weights': 'distance'}\n",
      "\n",
      "0.955 (+/-0.016) for {'n_neighbors': 4, 'p': 1, 'weights': 'distance'}\n",
      "\n",
      "0.958 (+/-0.019) for {'n_neighbors': 4, 'p': 2, 'weights': 'distance'}\n",
      "\n",
      "0.962 (+/-0.017) for {'n_neighbors': 4, 'p': 3, 'weights': 'distance'}\n",
      "\n",
      "0.959 (+/-0.023) for {'n_neighbors': 4, 'p': 4, 'weights': 'distance'}\n",
      "\n",
      "0.952 (+/-0.023) for {'n_neighbors': 5, 'p': 1, 'weights': 'distance'}\n",
      "\n",
      "0.956 (+/-0.020) for {'n_neighbors': 5, 'p': 2, 'weights': 'distance'}\n",
      "\n",
      "0.962 (+/-0.013) for {'n_neighbors': 5, 'p': 3, 'weights': 'distance'}\n",
      "\n",
      "0.962 (+/-0.016) for {'n_neighbors': 5, 'p': 4, 'weights': 'distance'}\n",
      "\n",
      "0.948 (+/-0.018) for {'n_neighbors': 6, 'p': 1, 'weights': 'distance'}\n",
      "\n",
      "0.956 (+/-0.022) for {'n_neighbors': 6, 'p': 2, 'weights': 'distance'}\n",
      "\n",
      "0.962 (+/-0.017) for {'n_neighbors': 6, 'p': 3, 'weights': 'distance'}\n",
      "\n",
      "0.960 (+/-0.018) for {'n_neighbors': 6, 'p': 4, 'weights': 'distance'}\n",
      "\n",
      "0.950 (+/-0.021) for {'n_neighbors': 7, 'p': 1, 'weights': 'distance'}\n",
      "\n",
      "0.954 (+/-0.021) for {'n_neighbors': 7, 'p': 2, 'weights': 'distance'}\n",
      "\n",
      "0.958 (+/-0.020) for {'n_neighbors': 7, 'p': 3, 'weights': 'distance'}\n",
      "\n",
      "0.957 (+/-0.021) for {'n_neighbors': 7, 'p': 4, 'weights': 'distance'}\n",
      "\n",
      "0.951 (+/-0.021) for {'n_neighbors': 8, 'p': 1, 'weights': 'distance'}\n",
      "\n",
      "0.954 (+/-0.026) for {'n_neighbors': 8, 'p': 2, 'weights': 'distance'}\n",
      "\n",
      "0.959 (+/-0.020) for {'n_neighbors': 8, 'p': 3, 'weights': 'distance'}\n",
      "\n",
      "0.959 (+/-0.017) for {'n_neighbors': 8, 'p': 4, 'weights': 'distance'}\n",
      "\n",
      "0.952 (+/-0.018) for {'n_neighbors': 9, 'p': 1, 'weights': 'distance'}\n",
      "\n",
      "0.953 (+/-0.020) for {'n_neighbors': 9, 'p': 2, 'weights': 'distance'}\n",
      "\n",
      "0.958 (+/-0.017) for {'n_neighbors': 9, 'p': 3, 'weights': 'distance'}\n",
      "\n",
      "0.959 (+/-0.015) for {'n_neighbors': 9, 'p': 4, 'weights': 'distance'}\n",
      "\n",
      "0.953 (+/-0.015) for {'n_neighbors': 10, 'p': 1, 'weights': 'distance'}\n",
      "\n",
      "0.954 (+/-0.022) for {'n_neighbors': 10, 'p': 2, 'weights': 'distance'}\n",
      "\n",
      "0.958 (+/-0.017) for {'n_neighbors': 10, 'p': 3, 'weights': 'distance'}\n",
      "\n",
      "0.961 (+/-0.019) for {'n_neighbors': 10, 'p': 4, 'weights': 'distance'}\n",
      "\n",
      "0.955 (+/-0.021) for {'n_neighbors': 11, 'p': 1, 'weights': 'distance'}\n",
      "\n",
      "0.954 (+/-0.027) for {'n_neighbors': 11, 'p': 2, 'weights': 'distance'}\n",
      "\n",
      "0.958 (+/-0.022) for {'n_neighbors': 11, 'p': 3, 'weights': 'distance'}\n",
      "\n",
      "0.960 (+/-0.016) for {'n_neighbors': 11, 'p': 4, 'weights': 'distance'}\n",
      "\n",
      "0.954 (+/-0.019) for {'n_neighbors': 12, 'p': 1, 'weights': 'distance'}\n",
      "\n",
      "0.957 (+/-0.022) for {'n_neighbors': 12, 'p': 2, 'weights': 'distance'}\n",
      "\n",
      "0.954 (+/-0.025) for {'n_neighbors': 12, 'p': 3, 'weights': 'distance'}\n",
      "\n",
      "0.961 (+/-0.019) for {'n_neighbors': 12, 'p': 4, 'weights': 'distance'}\n",
      "\n",
      "0.955 (+/-0.022) for {'n_neighbors': 13, 'p': 1, 'weights': 'distance'}\n",
      "\n",
      "0.955 (+/-0.027) for {'n_neighbors': 13, 'p': 2, 'weights': 'distance'}\n",
      "\n",
      "0.954 (+/-0.024) for {'n_neighbors': 13, 'p': 3, 'weights': 'distance'}\n",
      "\n",
      "0.959 (+/-0.022) for {'n_neighbors': 13, 'p': 4, 'weights': 'distance'}\n",
      "\n",
      "0.956 (+/-0.019) for {'n_neighbors': 14, 'p': 1, 'weights': 'distance'}\n",
      "\n",
      "0.958 (+/-0.021) for {'n_neighbors': 14, 'p': 2, 'weights': 'distance'}\n",
      "\n",
      "0.953 (+/-0.027) for {'n_neighbors': 14, 'p': 3, 'weights': 'distance'}\n",
      "\n",
      "0.962 (+/-0.020) for {'n_neighbors': 14, 'p': 4, 'weights': 'distance'}\n",
      "\n",
      "0.955 (+/-0.025) for {'n_neighbors': 15, 'p': 1, 'weights': 'distance'}\n",
      "\n",
      "0.955 (+/-0.018) for {'n_neighbors': 15, 'p': 2, 'weights': 'distance'}\n",
      "\n",
      "0.957 (+/-0.027) for {'n_neighbors': 15, 'p': 3, 'weights': 'distance'}\n",
      "\n",
      "0.958 (+/-0.024) for {'n_neighbors': 15, 'p': 4, 'weights': 'distance'}\n",
      "\n",
      "0.956 (+/-0.015) for {'n_neighbors': 16, 'p': 1, 'weights': 'distance'}\n",
      "\n",
      "0.956 (+/-0.021) for {'n_neighbors': 16, 'p': 2, 'weights': 'distance'}\n",
      "\n",
      "0.956 (+/-0.025) for {'n_neighbors': 16, 'p': 3, 'weights': 'distance'}\n",
      "\n",
      "0.960 (+/-0.026) for {'n_neighbors': 16, 'p': 4, 'weights': 'distance'}\n",
      "\n",
      "0.953 (+/-0.026) for {'n_neighbors': 17, 'p': 1, 'weights': 'distance'}\n",
      "\n",
      "0.956 (+/-0.027) for {'n_neighbors': 17, 'p': 2, 'weights': 'distance'}\n",
      "\n",
      "0.954 (+/-0.025) for {'n_neighbors': 17, 'p': 3, 'weights': 'distance'}\n",
      "\n",
      "0.958 (+/-0.024) for {'n_neighbors': 17, 'p': 4, 'weights': 'distance'}\n",
      "\n",
      "0.952 (+/-0.026) for {'n_neighbors': 18, 'p': 1, 'weights': 'distance'}\n",
      "\n",
      "0.955 (+/-0.025) for {'n_neighbors': 18, 'p': 2, 'weights': 'distance'}\n",
      "\n",
      "0.955 (+/-0.025) for {'n_neighbors': 18, 'p': 3, 'weights': 'distance'}\n",
      "\n",
      "0.959 (+/-0.024) for {'n_neighbors': 18, 'p': 4, 'weights': 'distance'}\n",
      "\n",
      "0.951 (+/-0.024) for {'n_neighbors': 19, 'p': 1, 'weights': 'distance'}\n",
      "\n",
      "0.953 (+/-0.021) for {'n_neighbors': 19, 'p': 2, 'weights': 'distance'}\n",
      "\n",
      "0.954 (+/-0.029) for {'n_neighbors': 19, 'p': 3, 'weights': 'distance'}\n",
      "\n",
      "0.958 (+/-0.022) for {'n_neighbors': 19, 'p': 4, 'weights': 'distance'}\n",
      "\n",
      "0.922 (+/-0.037) for {'alpha': 1.0, 'hidden_layer_sizes': (10,), 'max_iter': 50, 'solver': 'adam'}\n",
      "\n",
      "0.500 (+/-0.000) for {'alpha': 1.0, 'hidden_layer_sizes': (10,), 'max_iter': 50, 'solver': 'sgd'}\n",
      "\n",
      "0.965 (+/-0.021) for {'alpha': 1.0, 'hidden_layer_sizes': (10,), 'max_iter': 50, 'solver': 'lbfgs'}\n",
      "\n",
      "0.930 (+/-0.024) for {'alpha': 1.0, 'hidden_layer_sizes': (10,), 'max_iter': 100, 'solver': 'adam'}\n",
      "\n",
      "0.500 (+/-0.000) for {'alpha': 1.0, 'hidden_layer_sizes': (10,), 'max_iter': 100, 'solver': 'sgd'}\n",
      "\n",
      "0.965 (+/-0.020) for {'alpha': 1.0, 'hidden_layer_sizes': (10,), 'max_iter': 100, 'solver': 'lbfgs'}\n",
      "\n",
      "0.930 (+/-0.028) for {'alpha': 1.0, 'hidden_layer_sizes': (10,), 'max_iter': 200, 'solver': 'adam'}\n",
      "\n",
      "0.503 (+/-0.013) for {'alpha': 1.0, 'hidden_layer_sizes': (10,), 'max_iter': 200, 'solver': 'sgd'}\n",
      "\n",
      "0.964 (+/-0.019) for {'alpha': 1.0, 'hidden_layer_sizes': (10,), 'max_iter': 200, 'solver': 'lbfgs'}\n",
      "\n",
      "0.930 (+/-0.028) for {'alpha': 1.0, 'hidden_layer_sizes': (10,), 'max_iter': 1000, 'solver': 'adam'}\n",
      "\n",
      "0.897 (+/-0.069) for {'alpha': 1.0, 'hidden_layer_sizes': (10,), 'max_iter': 1000, 'solver': 'sgd'}\n",
      "\n",
      "0.964 (+/-0.018) for {'alpha': 1.0, 'hidden_layer_sizes': (10,), 'max_iter': 1000, 'solver': 'lbfgs'}\n",
      "\n",
      "0.945 (+/-0.030) for {'alpha': 1.0, 'hidden_layer_sizes': (10, 10), 'max_iter': 50, 'solver': 'adam'}\n",
      "\n",
      "0.500 (+/-0.000) for {'alpha': 1.0, 'hidden_layer_sizes': (10, 10), 'max_iter': 50, 'solver': 'sgd'}\n",
      "\n",
      "0.966 (+/-0.023) for {'alpha': 1.0, 'hidden_layer_sizes': (10, 10), 'max_iter': 50, 'solver': 'lbfgs'}\n",
      "\n",
      "0.951 (+/-0.031) for {'alpha': 1.0, 'hidden_layer_sizes': (10, 10), 'max_iter': 100, 'solver': 'adam'}\n",
      "\n",
      "0.500 (+/-0.000) for {'alpha': 1.0, 'hidden_layer_sizes': (10, 10), 'max_iter': 100, 'solver': 'sgd'}\n",
      "\n",
      "0.967 (+/-0.020) for {'alpha': 1.0, 'hidden_layer_sizes': (10, 10), 'max_iter': 100, 'solver': 'lbfgs'}\n",
      "\n",
      "0.951 (+/-0.030) for {'alpha': 1.0, 'hidden_layer_sizes': (10, 10), 'max_iter': 200, 'solver': 'adam'}\n",
      "\n",
      "0.508 (+/-0.031) for {'alpha': 1.0, 'hidden_layer_sizes': (10, 10), 'max_iter': 200, 'solver': 'sgd'}\n",
      "\n",
      "0.964 (+/-0.023) for {'alpha': 1.0, 'hidden_layer_sizes': (10, 10), 'max_iter': 200, 'solver': 'lbfgs'}\n",
      "\n",
      "0.951 (+/-0.029) for {'alpha': 1.0, 'hidden_layer_sizes': (10, 10), 'max_iter': 1000, 'solver': 'adam'}\n",
      "\n",
      "0.941 (+/-0.026) for {'alpha': 1.0, 'hidden_layer_sizes': (10, 10), 'max_iter': 1000, 'solver': 'sgd'}\n",
      "\n",
      "0.965 (+/-0.025) for {'alpha': 1.0, 'hidden_layer_sizes': (10, 10), 'max_iter': 1000, 'solver': 'lbfgs'}\n",
      "\n",
      "0.932 (+/-0.023) for {'alpha': 1.0, 'hidden_layer_sizes': (100,), 'max_iter': 50, 'solver': 'adam'}\n",
      "\n",
      "0.500 (+/-0.000) for {'alpha': 1.0, 'hidden_layer_sizes': (100,), 'max_iter': 50, 'solver': 'sgd'}\n",
      "\n",
      "0.964 (+/-0.019) for {'alpha': 1.0, 'hidden_layer_sizes': (100,), 'max_iter': 50, 'solver': 'lbfgs'}\n",
      "\n",
      "0.933 (+/-0.025) for {'alpha': 1.0, 'hidden_layer_sizes': (100,), 'max_iter': 100, 'solver': 'adam'}\n",
      "\n",
      "0.500 (+/-0.000) for {'alpha': 1.0, 'hidden_layer_sizes': (100,), 'max_iter': 100, 'solver': 'sgd'}\n",
      "\n",
      "0.965 (+/-0.016) for {'alpha': 1.0, 'hidden_layer_sizes': (100,), 'max_iter': 100, 'solver': 'lbfgs'}\n",
      "\n",
      "0.932 (+/-0.032) for {'alpha': 1.0, 'hidden_layer_sizes': (100,), 'max_iter': 200, 'solver': 'adam'}\n",
      "\n",
      "0.500 (+/-0.000) for {'alpha': 1.0, 'hidden_layer_sizes': (100,), 'max_iter': 200, 'solver': 'sgd'}\n",
      "\n",
      "0.965 (+/-0.020) for {'alpha': 1.0, 'hidden_layer_sizes': (100,), 'max_iter': 200, 'solver': 'lbfgs'}\n",
      "\n",
      "0.929 (+/-0.028) for {'alpha': 1.0, 'hidden_layer_sizes': (100,), 'max_iter': 1000, 'solver': 'adam'}\n",
      "\n",
      "0.930 (+/-0.029) for {'alpha': 1.0, 'hidden_layer_sizes': (100,), 'max_iter': 1000, 'solver': 'sgd'}\n",
      "\n",
      "0.965 (+/-0.020) for {'alpha': 1.0, 'hidden_layer_sizes': (100,), 'max_iter': 1000, 'solver': 'lbfgs'}\n",
      "\n",
      "0.953 (+/-0.029) for {'alpha': 1.0, 'hidden_layer_sizes': (100, 30), 'max_iter': 50, 'solver': 'adam'}\n",
      "\n",
      "0.500 (+/-0.000) for {'alpha': 1.0, 'hidden_layer_sizes': (100, 30), 'max_iter': 50, 'solver': 'sgd'}\n",
      "\n",
      "0.966 (+/-0.017) for {'alpha': 1.0, 'hidden_layer_sizes': (100, 30), 'max_iter': 50, 'solver': 'lbfgs'}\n",
      "\n",
      "0.955 (+/-0.023) for {'alpha': 1.0, 'hidden_layer_sizes': (100, 30), 'max_iter': 100, 'solver': 'adam'}\n",
      "\n",
      "0.500 (+/-0.000) for {'alpha': 1.0, 'hidden_layer_sizes': (100, 30), 'max_iter': 100, 'solver': 'sgd'}\n",
      "\n",
      "0.966 (+/-0.018) for {'alpha': 1.0, 'hidden_layer_sizes': (100, 30), 'max_iter': 100, 'solver': 'lbfgs'}\n",
      "\n",
      "0.956 (+/-0.028) for {'alpha': 1.0, 'hidden_layer_sizes': (100, 30), 'max_iter': 200, 'solver': 'adam'}\n",
      "\n",
      "0.721 (+/-0.294) for {'alpha': 1.0, 'hidden_layer_sizes': (100, 30), 'max_iter': 200, 'solver': 'sgd'}\n",
      "\n",
      "0.965 (+/-0.024) for {'alpha': 1.0, 'hidden_layer_sizes': (100, 30), 'max_iter': 200, 'solver': 'lbfgs'}\n",
      "\n",
      "0.955 (+/-0.021) for {'alpha': 1.0, 'hidden_layer_sizes': (100, 30), 'max_iter': 1000, 'solver': 'adam'}\n",
      "\n",
      "0.951 (+/-0.027) for {'alpha': 1.0, 'hidden_layer_sizes': (100, 30), 'max_iter': 1000, 'solver': 'sgd'}\n",
      "\n",
      "0.964 (+/-0.017) for {'alpha': 1.0, 'hidden_layer_sizes': (100, 30), 'max_iter': 1000, 'solver': 'lbfgs'}\n",
      "\n",
      "0.956 (+/-0.029) for {'alpha': 0.1, 'hidden_layer_sizes': (10,), 'max_iter': 50, 'solver': 'adam'}\n",
      "\n",
      "0.500 (+/-0.000) for {'alpha': 0.1, 'hidden_layer_sizes': (10,), 'max_iter': 50, 'solver': 'sgd'}\n",
      "\n",
      "0.968 (+/-0.018) for {'alpha': 0.1, 'hidden_layer_sizes': (10,), 'max_iter': 50, 'solver': 'lbfgs'}\n",
      "\n",
      "0.959 (+/-0.018) for {'alpha': 0.1, 'hidden_layer_sizes': (10,), 'max_iter': 100, 'solver': 'adam'}\n",
      "\n",
      "0.500 (+/-0.000) for {'alpha': 0.1, 'hidden_layer_sizes': (10,), 'max_iter': 100, 'solver': 'sgd'}\n",
      "\n",
      "0.969 (+/-0.016) for {'alpha': 0.1, 'hidden_layer_sizes': (10,), 'max_iter': 100, 'solver': 'lbfgs'}\n",
      "\n",
      "0.961 (+/-0.022) for {'alpha': 0.1, 'hidden_layer_sizes': (10,), 'max_iter': 200, 'solver': 'adam'}\n",
      "\n",
      "0.512 (+/-0.049) for {'alpha': 0.1, 'hidden_layer_sizes': (10,), 'max_iter': 200, 'solver': 'sgd'}\n",
      "\n",
      "0.969 (+/-0.014) for {'alpha': 0.1, 'hidden_layer_sizes': (10,), 'max_iter': 200, 'solver': 'lbfgs'}\n",
      "\n",
      "0.960 (+/-0.019) for {'alpha': 0.1, 'hidden_layer_sizes': (10,), 'max_iter': 1000, 'solver': 'adam'}\n",
      "\n",
      "0.931 (+/-0.022) for {'alpha': 0.1, 'hidden_layer_sizes': (10,), 'max_iter': 1000, 'solver': 'sgd'}\n",
      "\n",
      "0.967 (+/-0.019) for {'alpha': 0.1, 'hidden_layer_sizes': (10,), 'max_iter': 1000, 'solver': 'lbfgs'}\n",
      "\n",
      "0.959 (+/-0.023) for {'alpha': 0.1, 'hidden_layer_sizes': (10, 10), 'max_iter': 50, 'solver': 'adam'}\n",
      "\n",
      "0.500 (+/-0.000) for {'alpha': 0.1, 'hidden_layer_sizes': (10, 10), 'max_iter': 50, 'solver': 'sgd'}\n",
      "\n",
      "0.966 (+/-0.026) for {'alpha': 0.1, 'hidden_layer_sizes': (10, 10), 'max_iter': 50, 'solver': 'lbfgs'}\n",
      "\n",
      "0.965 (+/-0.015) for {'alpha': 0.1, 'hidden_layer_sizes': (10, 10), 'max_iter': 100, 'solver': 'adam'}\n",
      "\n",
      "0.500 (+/-0.000) for {'alpha': 0.1, 'hidden_layer_sizes': (10, 10), 'max_iter': 100, 'solver': 'sgd'}\n",
      "\n",
      "0.968 (+/-0.012) for {'alpha': 0.1, 'hidden_layer_sizes': (10, 10), 'max_iter': 100, 'solver': 'lbfgs'}\n",
      "\n",
      "0.965 (+/-0.017) for {'alpha': 0.1, 'hidden_layer_sizes': (10, 10), 'max_iter': 200, 'solver': 'adam'}\n",
      "\n",
      "0.714 (+/-0.319) for {'alpha': 0.1, 'hidden_layer_sizes': (10, 10), 'max_iter': 200, 'solver': 'sgd'}\n",
      "\n",
      "0.965 (+/-0.025) for {'alpha': 0.1, 'hidden_layer_sizes': (10, 10), 'max_iter': 200, 'solver': 'lbfgs'}\n",
      "\n",
      "0.965 (+/-0.015) for {'alpha': 0.1, 'hidden_layer_sizes': (10, 10), 'max_iter': 1000, 'solver': 'adam'}\n",
      "\n",
      "0.951 (+/-0.031) for {'alpha': 0.1, 'hidden_layer_sizes': (10, 10), 'max_iter': 1000, 'solver': 'sgd'}\n",
      "\n",
      "0.966 (+/-0.016) for {'alpha': 0.1, 'hidden_layer_sizes': (10, 10), 'max_iter': 1000, 'solver': 'lbfgs'}\n",
      "\n",
      "0.957 (+/-0.026) for {'alpha': 0.1, 'hidden_layer_sizes': (100,), 'max_iter': 50, 'solver': 'adam'}\n",
      "\n",
      "0.500 (+/-0.000) for {'alpha': 0.1, 'hidden_layer_sizes': (100,), 'max_iter': 50, 'solver': 'sgd'}\n",
      "\n",
      "0.968 (+/-0.014) for {'alpha': 0.1, 'hidden_layer_sizes': (100,), 'max_iter': 50, 'solver': 'lbfgs'}\n",
      "\n",
      "0.959 (+/-0.018) for {'alpha': 0.1, 'hidden_layer_sizes': (100,), 'max_iter': 100, 'solver': 'adam'}\n",
      "\n",
      "0.500 (+/-0.000) for {'alpha': 0.1, 'hidden_layer_sizes': (100,), 'max_iter': 100, 'solver': 'sgd'}\n",
      "\n",
      "0.964 (+/-0.018) for {'alpha': 0.1, 'hidden_layer_sizes': (100,), 'max_iter': 100, 'solver': 'lbfgs'}\n",
      "\n",
      "0.961 (+/-0.014) for {'alpha': 0.1, 'hidden_layer_sizes': (100,), 'max_iter': 200, 'solver': 'adam'}\n",
      "\n",
      "0.526 (+/-0.027) for {'alpha': 0.1, 'hidden_layer_sizes': (100,), 'max_iter': 200, 'solver': 'sgd'}\n",
      "\n",
      "0.966 (+/-0.021) for {'alpha': 0.1, 'hidden_layer_sizes': (100,), 'max_iter': 200, 'solver': 'lbfgs'}\n",
      "\n",
      "0.962 (+/-0.023) for {'alpha': 0.1, 'hidden_layer_sizes': (100,), 'max_iter': 1000, 'solver': 'adam'}\n",
      "\n",
      "0.933 (+/-0.026) for {'alpha': 0.1, 'hidden_layer_sizes': (100,), 'max_iter': 1000, 'solver': 'sgd'}\n",
      "\n",
      "0.964 (+/-0.017) for {'alpha': 0.1, 'hidden_layer_sizes': (100,), 'max_iter': 1000, 'solver': 'lbfgs'}\n",
      "\n",
      "0.964 (+/-0.014) for {'alpha': 0.1, 'hidden_layer_sizes': (100, 30), 'max_iter': 50, 'solver': 'adam'}\n",
      "\n",
      "0.500 (+/-0.000) for {'alpha': 0.1, 'hidden_layer_sizes': (100, 30), 'max_iter': 50, 'solver': 'sgd'}\n",
      "\n",
      "0.965 (+/-0.015) for {'alpha': 0.1, 'hidden_layer_sizes': (100, 30), 'max_iter': 50, 'solver': 'lbfgs'}\n",
      "\n",
      "0.966 (+/-0.019) for {'alpha': 0.1, 'hidden_layer_sizes': (100, 30), 'max_iter': 100, 'solver': 'adam'}\n",
      "\n",
      "0.500 (+/-0.000) for {'alpha': 0.1, 'hidden_layer_sizes': (100, 30), 'max_iter': 100, 'solver': 'sgd'}\n",
      "\n",
      "0.962 (+/-0.014) for {'alpha': 0.1, 'hidden_layer_sizes': (100, 30), 'max_iter': 100, 'solver': 'lbfgs'}\n",
      "\n",
      "0.967 (+/-0.018) for {'alpha': 0.1, 'hidden_layer_sizes': (100, 30), 'max_iter': 200, 'solver': 'adam'}\n",
      "\n",
      "0.832 (+/-0.081) for {'alpha': 0.1, 'hidden_layer_sizes': (100, 30), 'max_iter': 200, 'solver': 'sgd'}\n",
      "\n",
      "0.963 (+/-0.013) for {'alpha': 0.1, 'hidden_layer_sizes': (100, 30), 'max_iter': 200, 'solver': 'lbfgs'}\n",
      "\n",
      "0.966 (+/-0.019) for {'alpha': 0.1, 'hidden_layer_sizes': (100, 30), 'max_iter': 1000, 'solver': 'adam'}\n",
      "\n",
      "0.951 (+/-0.025) for {'alpha': 0.1, 'hidden_layer_sizes': (100, 30), 'max_iter': 1000, 'solver': 'sgd'}\n",
      "\n",
      "0.965 (+/-0.014) for {'alpha': 0.1, 'hidden_layer_sizes': (100, 30), 'max_iter': 1000, 'solver': 'lbfgs'}\n",
      "\n",
      "0.959 (+/-0.022) for {'alpha': 0.010000000000000002, 'hidden_layer_sizes': (10,), 'max_iter': 50, 'solver': 'adam'}\n",
      "\n",
      "0.500 (+/-0.000) for {'alpha': 0.010000000000000002, 'hidden_layer_sizes': (10,), 'max_iter': 50, 'solver': 'sgd'}\n",
      "\n",
      "0.968 (+/-0.022) for {'alpha': 0.010000000000000002, 'hidden_layer_sizes': (10,), 'max_iter': 50, 'solver': 'lbfgs'}\n",
      "\n",
      "0.961 (+/-0.021) for {'alpha': 0.010000000000000002, 'hidden_layer_sizes': (10,), 'max_iter': 100, 'solver': 'adam'}\n",
      "\n",
      "0.500 (+/-0.000) for {'alpha': 0.010000000000000002, 'hidden_layer_sizes': (10,), 'max_iter': 100, 'solver': 'sgd'}\n",
      "\n",
      "0.969 (+/-0.028) for {'alpha': 0.010000000000000002, 'hidden_layer_sizes': (10,), 'max_iter': 100, 'solver': 'lbfgs'}\n",
      "\n",
      "0.963 (+/-0.018) for {'alpha': 0.010000000000000002, 'hidden_layer_sizes': (10,), 'max_iter': 200, 'solver': 'adam'}\n",
      "\n",
      "0.500 (+/-0.000) for {'alpha': 0.010000000000000002, 'hidden_layer_sizes': (10,), 'max_iter': 200, 'solver': 'sgd'}\n",
      "\n",
      "0.968 (+/-0.024) for {'alpha': 0.010000000000000002, 'hidden_layer_sizes': (10,), 'max_iter': 200, 'solver': 'lbfgs'}\n",
      "\n",
      "0.961 (+/-0.017) for {'alpha': 0.010000000000000002, 'hidden_layer_sizes': (10,), 'max_iter': 1000, 'solver': 'adam'}\n",
      "\n",
      "0.936 (+/-0.030) for {'alpha': 0.010000000000000002, 'hidden_layer_sizes': (10,), 'max_iter': 1000, 'solver': 'sgd'}\n",
      "\n",
      "0.965 (+/-0.029) for {'alpha': 0.010000000000000002, 'hidden_layer_sizes': (10,), 'max_iter': 1000, 'solver': 'lbfgs'}\n",
      "\n",
      "0.964 (+/-0.015) for {'alpha': 0.010000000000000002, 'hidden_layer_sizes': (10, 10), 'max_iter': 50, 'solver': 'adam'}\n",
      "\n",
      "0.500 (+/-0.000) for {'alpha': 0.010000000000000002, 'hidden_layer_sizes': (10, 10), 'max_iter': 50, 'solver': 'sgd'}\n",
      "\n",
      "0.968 (+/-0.023) for {'alpha': 0.010000000000000002, 'hidden_layer_sizes': (10, 10), 'max_iter': 50, 'solver': 'lbfgs'}\n",
      "\n",
      "0.970 (+/-0.021) for {'alpha': 0.010000000000000002, 'hidden_layer_sizes': (10, 10), 'max_iter': 100, 'solver': 'adam'}\n",
      "\n",
      "0.500 (+/-0.000) for {'alpha': 0.010000000000000002, 'hidden_layer_sizes': (10, 10), 'max_iter': 100, 'solver': 'sgd'}\n",
      "\n",
      "0.967 (+/-0.020) for {'alpha': 0.010000000000000002, 'hidden_layer_sizes': (10, 10), 'max_iter': 100, 'solver': 'lbfgs'}\n",
      "\n",
      "0.967 (+/-0.025) for {'alpha': 0.010000000000000002, 'hidden_layer_sizes': (10, 10), 'max_iter': 200, 'solver': 'adam'}\n",
      "\n",
      "0.769 (+/-0.291) for {'alpha': 0.010000000000000002, 'hidden_layer_sizes': (10, 10), 'max_iter': 200, 'solver': 'sgd'}\n",
      "\n",
      "0.964 (+/-0.026) for {'alpha': 0.010000000000000002, 'hidden_layer_sizes': (10, 10), 'max_iter': 200, 'solver': 'lbfgs'}\n",
      "\n",
      "0.967 (+/-0.024) for {'alpha': 0.010000000000000002, 'hidden_layer_sizes': (10, 10), 'max_iter': 1000, 'solver': 'adam'}\n",
      "\n",
      "0.951 (+/-0.030) for {'alpha': 0.010000000000000002, 'hidden_layer_sizes': (10, 10), 'max_iter': 1000, 'solver': 'sgd'}\n",
      "\n",
      "0.965 (+/-0.018) for {'alpha': 0.010000000000000002, 'hidden_layer_sizes': (10, 10), 'max_iter': 1000, 'solver': 'lbfgs'}\n",
      "\n",
      "0.964 (+/-0.019) for {'alpha': 0.010000000000000002, 'hidden_layer_sizes': (100,), 'max_iter': 50, 'solver': 'adam'}\n",
      "\n",
      "0.500 (+/-0.000) for {'alpha': 0.010000000000000002, 'hidden_layer_sizes': (100,), 'max_iter': 50, 'solver': 'sgd'}\n",
      "\n",
      "0.964 (+/-0.025) for {'alpha': 0.010000000000000002, 'hidden_layer_sizes': (100,), 'max_iter': 50, 'solver': 'lbfgs'}\n",
      "\n",
      "0.965 (+/-0.015) for {'alpha': 0.010000000000000002, 'hidden_layer_sizes': (100,), 'max_iter': 100, 'solver': 'adam'}\n",
      "\n",
      "0.500 (+/-0.000) for {'alpha': 0.010000000000000002, 'hidden_layer_sizes': (100,), 'max_iter': 100, 'solver': 'sgd'}\n",
      "\n",
      "0.967 (+/-0.019) for {'alpha': 0.010000000000000002, 'hidden_layer_sizes': (100,), 'max_iter': 100, 'solver': 'lbfgs'}\n",
      "\n",
      "0.964 (+/-0.017) for {'alpha': 0.010000000000000002, 'hidden_layer_sizes': (100,), 'max_iter': 200, 'solver': 'adam'}\n",
      "\n",
      "0.508 (+/-0.022) for {'alpha': 0.010000000000000002, 'hidden_layer_sizes': (100,), 'max_iter': 200, 'solver': 'sgd'}\n",
      "\n",
      "0.965 (+/-0.023) for {'alpha': 0.010000000000000002, 'hidden_layer_sizes': (100,), 'max_iter': 200, 'solver': 'lbfgs'}\n",
      "\n",
      "0.964 (+/-0.018) for {'alpha': 0.010000000000000002, 'hidden_layer_sizes': (100,), 'max_iter': 1000, 'solver': 'adam'}\n",
      "\n",
      "0.933 (+/-0.031) for {'alpha': 0.010000000000000002, 'hidden_layer_sizes': (100,), 'max_iter': 1000, 'solver': 'sgd'}\n",
      "\n",
      "0.967 (+/-0.022) for {'alpha': 0.010000000000000002, 'hidden_layer_sizes': (100,), 'max_iter': 1000, 'solver': 'lbfgs'}\n",
      "\n",
      "0.969 (+/-0.021) for {'alpha': 0.010000000000000002, 'hidden_layer_sizes': (100, 30), 'max_iter': 50, 'solver': 'adam'}\n",
      "\n",
      "0.500 (+/-0.000) for {'alpha': 0.010000000000000002, 'hidden_layer_sizes': (100, 30), 'max_iter': 50, 'solver': 'sgd'}\n",
      "\n",
      "0.964 (+/-0.024) for {'alpha': 0.010000000000000002, 'hidden_layer_sizes': (100, 30), 'max_iter': 50, 'solver': 'lbfgs'}\n",
      "\n",
      "0.969 (+/-0.019) for {'alpha': 0.010000000000000002, 'hidden_layer_sizes': (100, 30), 'max_iter': 100, 'solver': 'adam'}\n",
      "\n",
      "0.500 (+/-0.000) for {'alpha': 0.010000000000000002, 'hidden_layer_sizes': (100, 30), 'max_iter': 100, 'solver': 'sgd'}\n",
      "\n",
      "0.966 (+/-0.022) for {'alpha': 0.010000000000000002, 'hidden_layer_sizes': (100, 30), 'max_iter': 100, 'solver': 'lbfgs'}\n",
      "\n",
      "0.968 (+/-0.022) for {'alpha': 0.010000000000000002, 'hidden_layer_sizes': (100, 30), 'max_iter': 200, 'solver': 'adam'}\n",
      "\n",
      "0.854 (+/-0.096) for {'alpha': 0.010000000000000002, 'hidden_layer_sizes': (100, 30), 'max_iter': 200, 'solver': 'sgd'}\n",
      "\n",
      "0.966 (+/-0.027) for {'alpha': 0.010000000000000002, 'hidden_layer_sizes': (100, 30), 'max_iter': 200, 'solver': 'lbfgs'}\n",
      "\n",
      "0.970 (+/-0.027) for {'alpha': 0.010000000000000002, 'hidden_layer_sizes': (100, 30), 'max_iter': 1000, 'solver': 'adam'}\n",
      "\n",
      "0.957 (+/-0.029) for {'alpha': 0.010000000000000002, 'hidden_layer_sizes': (100, 30), 'max_iter': 1000, 'solver': 'sgd'}\n",
      "\n",
      "0.967 (+/-0.026) for {'alpha': 0.010000000000000002, 'hidden_layer_sizes': (100, 30), 'max_iter': 1000, 'solver': 'lbfgs'}\n",
      "\n",
      "0.959 (+/-0.024) for {'alpha': 0.0010000000000000002, 'hidden_layer_sizes': (10,), 'max_iter': 50, 'solver': 'adam'}\n",
      "\n",
      "0.500 (+/-0.000) for {'alpha': 0.0010000000000000002, 'hidden_layer_sizes': (10,), 'max_iter': 50, 'solver': 'sgd'}\n",
      "\n",
      "0.965 (+/-0.021) for {'alpha': 0.0010000000000000002, 'hidden_layer_sizes': (10,), 'max_iter': 50, 'solver': 'lbfgs'}\n",
      "\n",
      "0.965 (+/-0.013) for {'alpha': 0.0010000000000000002, 'hidden_layer_sizes': (10,), 'max_iter': 100, 'solver': 'adam'}\n",
      "\n",
      "0.500 (+/-0.000) for {'alpha': 0.0010000000000000002, 'hidden_layer_sizes': (10,), 'max_iter': 100, 'solver': 'sgd'}\n",
      "\n",
      "0.968 (+/-0.019) for {'alpha': 0.0010000000000000002, 'hidden_layer_sizes': (10,), 'max_iter': 100, 'solver': 'lbfgs'}\n",
      "\n",
      "0.966 (+/-0.014) for {'alpha': 0.0010000000000000002, 'hidden_layer_sizes': (10,), 'max_iter': 200, 'solver': 'adam'}\n",
      "\n",
      "0.542 (+/-0.126) for {'alpha': 0.0010000000000000002, 'hidden_layer_sizes': (10,), 'max_iter': 200, 'solver': 'sgd'}\n",
      "\n",
      "0.966 (+/-0.023) for {'alpha': 0.0010000000000000002, 'hidden_layer_sizes': (10,), 'max_iter': 200, 'solver': 'lbfgs'}\n",
      "\n",
      "0.963 (+/-0.021) for {'alpha': 0.0010000000000000002, 'hidden_layer_sizes': (10,), 'max_iter': 1000, 'solver': 'adam'}\n",
      "\n",
      "0.933 (+/-0.035) for {'alpha': 0.0010000000000000002, 'hidden_layer_sizes': (10,), 'max_iter': 1000, 'solver': 'sgd'}\n",
      "\n",
      "0.964 (+/-0.028) for {'alpha': 0.0010000000000000002, 'hidden_layer_sizes': (10,), 'max_iter': 1000, 'solver': 'lbfgs'}\n",
      "\n",
      "0.961 (+/-0.022) for {'alpha': 0.0010000000000000002, 'hidden_layer_sizes': (10, 10), 'max_iter': 50, 'solver': 'adam'}\n",
      "\n",
      "0.500 (+/-0.000) for {'alpha': 0.0010000000000000002, 'hidden_layer_sizes': (10, 10), 'max_iter': 50, 'solver': 'sgd'}\n",
      "\n",
      "0.967 (+/-0.019) for {'alpha': 0.0010000000000000002, 'hidden_layer_sizes': (10, 10), 'max_iter': 50, 'solver': 'lbfgs'}\n",
      "\n",
      "0.963 (+/-0.028) for {'alpha': 0.0010000000000000002, 'hidden_layer_sizes': (10, 10), 'max_iter': 100, 'solver': 'adam'}\n",
      "\n",
      "0.500 (+/-0.000) for {'alpha': 0.0010000000000000002, 'hidden_layer_sizes': (10, 10), 'max_iter': 100, 'solver': 'sgd'}\n",
      "\n",
      "0.965 (+/-0.028) for {'alpha': 0.0010000000000000002, 'hidden_layer_sizes': (10, 10), 'max_iter': 100, 'solver': 'lbfgs'}\n",
      "\n",
      "0.968 (+/-0.021) for {'alpha': 0.0010000000000000002, 'hidden_layer_sizes': (10, 10), 'max_iter': 200, 'solver': 'adam'}\n",
      "\n",
      "0.776 (+/-0.176) for {'alpha': 0.0010000000000000002, 'hidden_layer_sizes': (10, 10), 'max_iter': 200, 'solver': 'sgd'}\n",
      "\n",
      "0.964 (+/-0.027) for {'alpha': 0.0010000000000000002, 'hidden_layer_sizes': (10, 10), 'max_iter': 200, 'solver': 'lbfgs'}\n",
      "\n",
      "0.968 (+/-0.020) for {'alpha': 0.0010000000000000002, 'hidden_layer_sizes': (10, 10), 'max_iter': 1000, 'solver': 'adam'}\n",
      "\n",
      "0.951 (+/-0.025) for {'alpha': 0.0010000000000000002, 'hidden_layer_sizes': (10, 10), 'max_iter': 1000, 'solver': 'sgd'}\n",
      "\n",
      "0.966 (+/-0.021) for {'alpha': 0.0010000000000000002, 'hidden_layer_sizes': (10, 10), 'max_iter': 1000, 'solver': 'lbfgs'}\n",
      "\n",
      "0.965 (+/-0.023) for {'alpha': 0.0010000000000000002, 'hidden_layer_sizes': (100,), 'max_iter': 50, 'solver': 'adam'}\n",
      "\n",
      "0.500 (+/-0.000) for {'alpha': 0.0010000000000000002, 'hidden_layer_sizes': (100,), 'max_iter': 50, 'solver': 'sgd'}\n",
      "\n",
      "0.966 (+/-0.020) for {'alpha': 0.0010000000000000002, 'hidden_layer_sizes': (100,), 'max_iter': 50, 'solver': 'lbfgs'}\n",
      "\n",
      "0.969 (+/-0.021) for {'alpha': 0.0010000000000000002, 'hidden_layer_sizes': (100,), 'max_iter': 100, 'solver': 'adam'}\n",
      "\n",
      "0.500 (+/-0.000) for {'alpha': 0.0010000000000000002, 'hidden_layer_sizes': (100,), 'max_iter': 100, 'solver': 'sgd'}\n",
      "\n",
      "0.966 (+/-0.027) for {'alpha': 0.0010000000000000002, 'hidden_layer_sizes': (100,), 'max_iter': 100, 'solver': 'lbfgs'}\n",
      "\n",
      "0.967 (+/-0.026) for {'alpha': 0.0010000000000000002, 'hidden_layer_sizes': (100,), 'max_iter': 200, 'solver': 'adam'}\n",
      "\n",
      "0.510 (+/-0.016) for {'alpha': 0.0010000000000000002, 'hidden_layer_sizes': (100,), 'max_iter': 200, 'solver': 'sgd'}\n",
      "\n",
      "0.967 (+/-0.018) for {'alpha': 0.0010000000000000002, 'hidden_layer_sizes': (100,), 'max_iter': 200, 'solver': 'lbfgs'}\n",
      "\n",
      "0.969 (+/-0.024) for {'alpha': 0.0010000000000000002, 'hidden_layer_sizes': (100,), 'max_iter': 1000, 'solver': 'adam'}\n",
      "\n",
      "0.936 (+/-0.023) for {'alpha': 0.0010000000000000002, 'hidden_layer_sizes': (100,), 'max_iter': 1000, 'solver': 'sgd'}\n",
      "\n",
      "0.965 (+/-0.025) for {'alpha': 0.0010000000000000002, 'hidden_layer_sizes': (100,), 'max_iter': 1000, 'solver': 'lbfgs'}\n",
      "\n",
      "0.970 (+/-0.020) for {'alpha': 0.0010000000000000002, 'hidden_layer_sizes': (100, 30), 'max_iter': 50, 'solver': 'adam'}\n",
      "\n",
      "0.500 (+/-0.000) for {'alpha': 0.0010000000000000002, 'hidden_layer_sizes': (100, 30), 'max_iter': 50, 'solver': 'sgd'}\n",
      "\n",
      "0.964 (+/-0.024) for {'alpha': 0.0010000000000000002, 'hidden_layer_sizes': (100, 30), 'max_iter': 50, 'solver': 'lbfgs'}\n",
      "\n",
      "0.968 (+/-0.021) for {'alpha': 0.0010000000000000002, 'hidden_layer_sizes': (100, 30), 'max_iter': 100, 'solver': 'adam'}\n",
      "\n",
      "0.500 (+/-0.000) for {'alpha': 0.0010000000000000002, 'hidden_layer_sizes': (100, 30), 'max_iter': 100, 'solver': 'sgd'}\n",
      "\n",
      "0.966 (+/-0.023) for {'alpha': 0.0010000000000000002, 'hidden_layer_sizes': (100, 30), 'max_iter': 100, 'solver': 'lbfgs'}\n",
      "\n",
      "0.969 (+/-0.019) for {'alpha': 0.0010000000000000002, 'hidden_layer_sizes': (100, 30), 'max_iter': 200, 'solver': 'adam'}\n",
      "\n",
      "0.873 (+/-0.102) for {'alpha': 0.0010000000000000002, 'hidden_layer_sizes': (100, 30), 'max_iter': 200, 'solver': 'sgd'}\n",
      "\n",
      "0.966 (+/-0.023) for {'alpha': 0.0010000000000000002, 'hidden_layer_sizes': (100, 30), 'max_iter': 200, 'solver': 'lbfgs'}\n",
      "\n",
      "0.969 (+/-0.018) for {'alpha': 0.0010000000000000002, 'hidden_layer_sizes': (100, 30), 'max_iter': 1000, 'solver': 'adam'}\n",
      "\n",
      "0.952 (+/-0.031) for {'alpha': 0.0010000000000000002, 'hidden_layer_sizes': (100, 30), 'max_iter': 1000, 'solver': 'sgd'}\n",
      "\n",
      "0.968 (+/-0.022) for {'alpha': 0.0010000000000000002, 'hidden_layer_sizes': (100, 30), 'max_iter': 1000, 'solver': 'lbfgs'}\n",
      "\n",
      "0.953 (+/-0.046) for {'alpha': 0.00010000000000000002, 'hidden_layer_sizes': (10,), 'max_iter': 50, 'solver': 'adam'}\n",
      "\n",
      "0.500 (+/-0.000) for {'alpha': 0.00010000000000000002, 'hidden_layer_sizes': (10,), 'max_iter': 50, 'solver': 'sgd'}\n",
      "\n",
      "0.964 (+/-0.019) for {'alpha': 0.00010000000000000002, 'hidden_layer_sizes': (10,), 'max_iter': 50, 'solver': 'lbfgs'}\n",
      "\n",
      "0.966 (+/-0.011) for {'alpha': 0.00010000000000000002, 'hidden_layer_sizes': (10,), 'max_iter': 100, 'solver': 'adam'}\n",
      "\n",
      "0.500 (+/-0.000) for {'alpha': 0.00010000000000000002, 'hidden_layer_sizes': (10,), 'max_iter': 100, 'solver': 'sgd'}\n",
      "\n",
      "0.964 (+/-0.023) for {'alpha': 0.00010000000000000002, 'hidden_layer_sizes': (10,), 'max_iter': 100, 'solver': 'lbfgs'}\n",
      "\n",
      "0.965 (+/-0.020) for {'alpha': 0.00010000000000000002, 'hidden_layer_sizes': (10,), 'max_iter': 200, 'solver': 'adam'}\n",
      "\n",
      "0.501 (+/-0.004) for {'alpha': 0.00010000000000000002, 'hidden_layer_sizes': (10,), 'max_iter': 200, 'solver': 'sgd'}\n",
      "\n",
      "0.965 (+/-0.026) for {'alpha': 0.00010000000000000002, 'hidden_layer_sizes': (10,), 'max_iter': 200, 'solver': 'lbfgs'}\n",
      "\n",
      "0.962 (+/-0.018) for {'alpha': 0.00010000000000000002, 'hidden_layer_sizes': (10,), 'max_iter': 1000, 'solver': 'adam'}\n",
      "\n",
      "0.935 (+/-0.033) for {'alpha': 0.00010000000000000002, 'hidden_layer_sizes': (10,), 'max_iter': 1000, 'solver': 'sgd'}\n",
      "\n",
      "0.963 (+/-0.020) for {'alpha': 0.00010000000000000002, 'hidden_layer_sizes': (10,), 'max_iter': 1000, 'solver': 'lbfgs'}\n",
      "\n",
      "0.963 (+/-0.023) for {'alpha': 0.00010000000000000002, 'hidden_layer_sizes': (10, 10), 'max_iter': 50, 'solver': 'adam'}\n",
      "\n",
      "0.500 (+/-0.000) for {'alpha': 0.00010000000000000002, 'hidden_layer_sizes': (10, 10), 'max_iter': 50, 'solver': 'sgd'}\n",
      "\n",
      "0.967 (+/-0.021) for {'alpha': 0.00010000000000000002, 'hidden_layer_sizes': (10, 10), 'max_iter': 50, 'solver': 'lbfgs'}\n",
      "\n",
      "0.970 (+/-0.018) for {'alpha': 0.00010000000000000002, 'hidden_layer_sizes': (10, 10), 'max_iter': 100, 'solver': 'adam'}\n",
      "\n",
      "0.500 (+/-0.000) for {'alpha': 0.00010000000000000002, 'hidden_layer_sizes': (10, 10), 'max_iter': 100, 'solver': 'sgd'}\n",
      "\n",
      "0.965 (+/-0.028) for {'alpha': 0.00010000000000000002, 'hidden_layer_sizes': (10, 10), 'max_iter': 100, 'solver': 'lbfgs'}\n",
      "\n",
      "0.969 (+/-0.021) for {'alpha': 0.00010000000000000002, 'hidden_layer_sizes': (10, 10), 'max_iter': 200, 'solver': 'adam'}\n",
      "\n",
      "0.714 (+/-0.284) for {'alpha': 0.00010000000000000002, 'hidden_layer_sizes': (10, 10), 'max_iter': 200, 'solver': 'sgd'}\n",
      "\n",
      "0.964 (+/-0.023) for {'alpha': 0.00010000000000000002, 'hidden_layer_sizes': (10, 10), 'max_iter': 200, 'solver': 'lbfgs'}\n",
      "\n",
      "0.966 (+/-0.025) for {'alpha': 0.00010000000000000002, 'hidden_layer_sizes': (10, 10), 'max_iter': 1000, 'solver': 'adam'}\n",
      "\n",
      "0.952 (+/-0.025) for {'alpha': 0.00010000000000000002, 'hidden_layer_sizes': (10, 10), 'max_iter': 1000, 'solver': 'sgd'}\n",
      "\n",
      "0.966 (+/-0.029) for {'alpha': 0.00010000000000000002, 'hidden_layer_sizes': (10, 10), 'max_iter': 1000, 'solver': 'lbfgs'}\n",
      "\n",
      "0.966 (+/-0.022) for {'alpha': 0.00010000000000000002, 'hidden_layer_sizes': (100,), 'max_iter': 50, 'solver': 'adam'}\n",
      "\n",
      "0.500 (+/-0.000) for {'alpha': 0.00010000000000000002, 'hidden_layer_sizes': (100,), 'max_iter': 50, 'solver': 'sgd'}\n",
      "\n",
      "0.965 (+/-0.022) for {'alpha': 0.00010000000000000002, 'hidden_layer_sizes': (100,), 'max_iter': 50, 'solver': 'lbfgs'}\n",
      "\n",
      "0.968 (+/-0.024) for {'alpha': 0.00010000000000000002, 'hidden_layer_sizes': (100,), 'max_iter': 100, 'solver': 'adam'}\n",
      "\n",
      "0.500 (+/-0.000) for {'alpha': 0.00010000000000000002, 'hidden_layer_sizes': (100,), 'max_iter': 100, 'solver': 'sgd'}\n",
      "\n",
      "0.965 (+/-0.022) for {'alpha': 0.00010000000000000002, 'hidden_layer_sizes': (100,), 'max_iter': 100, 'solver': 'lbfgs'}\n",
      "\n",
      "0.970 (+/-0.020) for {'alpha': 0.00010000000000000002, 'hidden_layer_sizes': (100,), 'max_iter': 200, 'solver': 'adam'}\n",
      "\n",
      "0.524 (+/-0.038) for {'alpha': 0.00010000000000000002, 'hidden_layer_sizes': (100,), 'max_iter': 200, 'solver': 'sgd'}\n",
      "\n",
      "0.965 (+/-0.023) for {'alpha': 0.00010000000000000002, 'hidden_layer_sizes': (100,), 'max_iter': 200, 'solver': 'lbfgs'}\n",
      "\n",
      "0.968 (+/-0.022) for {'alpha': 0.00010000000000000002, 'hidden_layer_sizes': (100,), 'max_iter': 1000, 'solver': 'adam'}\n",
      "\n",
      "0.937 (+/-0.027) for {'alpha': 0.00010000000000000002, 'hidden_layer_sizes': (100,), 'max_iter': 1000, 'solver': 'sgd'}\n",
      "\n",
      "0.967 (+/-0.025) for {'alpha': 0.00010000000000000002, 'hidden_layer_sizes': (100,), 'max_iter': 1000, 'solver': 'lbfgs'}\n",
      "\n",
      "0.969 (+/-0.024) for {'alpha': 0.00010000000000000002, 'hidden_layer_sizes': (100, 30), 'max_iter': 50, 'solver': 'adam'}\n",
      "\n",
      "0.500 (+/-0.000) for {'alpha': 0.00010000000000000002, 'hidden_layer_sizes': (100, 30), 'max_iter': 50, 'solver': 'sgd'}\n",
      "\n",
      "0.965 (+/-0.027) for {'alpha': 0.00010000000000000002, 'hidden_layer_sizes': (100, 30), 'max_iter': 50, 'solver': 'lbfgs'}\n",
      "\n",
      "0.972 (+/-0.018) for {'alpha': 0.00010000000000000002, 'hidden_layer_sizes': (100, 30), 'max_iter': 100, 'solver': 'adam'}\n",
      "\n",
      "0.500 (+/-0.000) for {'alpha': 0.00010000000000000002, 'hidden_layer_sizes': (100, 30), 'max_iter': 100, 'solver': 'sgd'}\n",
      "\n",
      "0.967 (+/-0.022) for {'alpha': 0.00010000000000000002, 'hidden_layer_sizes': (100, 30), 'max_iter': 100, 'solver': 'lbfgs'}\n",
      "\n",
      "0.968 (+/-0.027) for {'alpha': 0.00010000000000000002, 'hidden_layer_sizes': (100, 30), 'max_iter': 200, 'solver': 'adam'}\n",
      "\n",
      "0.887 (+/-0.023) for {'alpha': 0.00010000000000000002, 'hidden_layer_sizes': (100, 30), 'max_iter': 200, 'solver': 'sgd'}\n",
      "\n",
      "0.967 (+/-0.025) for {'alpha': 0.00010000000000000002, 'hidden_layer_sizes': (100, 30), 'max_iter': 200, 'solver': 'lbfgs'}\n",
      "\n",
      "0.968 (+/-0.025) for {'alpha': 0.00010000000000000002, 'hidden_layer_sizes': (100, 30), 'max_iter': 1000, 'solver': 'adam'}\n",
      "\n",
      "0.949 (+/-0.025) for {'alpha': 0.00010000000000000002, 'hidden_layer_sizes': (100, 30), 'max_iter': 1000, 'solver': 'sgd'}\n",
      "\n",
      "0.969 (+/-0.022) for {'alpha': 0.00010000000000000002, 'hidden_layer_sizes': (100, 30), 'max_iter': 1000, 'solver': 'lbfgs'}\n",
      "\n"
     ]
    }
   ],
   "source": [
    "for gs_r in gs_results['GridSearchCV']:\n",
    "    # gs_r = row['GridSearchCV']\n",
    "    for mean, std, params in zip(gs_r.cv_results_[\"mean_test_score\"], gs_r.cv_results_[\"std_test_score\"],\n",
    "                                 gs_r.cv_results_[\"params\"]):\n",
    "        print(\"%0.3f (+/-%0.03f) for %r\" % (mean, std * 2, params))\n",
    "        print()"
   ],
   "metadata": {
    "collapsed": false,
    "pycharm": {
     "name": "#%%\n"
    }
   }
  },
  {
   "cell_type": "code",
   "execution_count": 154,
   "outputs": [],
   "source": [
    "best_classifier = []\n",
    "for search in gs_results['GridSearchCV']:\n",
    "    # print(search.best_estimator_)\n",
    "    best_classifier.append(search.best_estimator_)"
   ],
   "metadata": {
    "collapsed": false,
    "pycharm": {
     "name": "#%%\n"
    }
   }
  },
  {
   "cell_type": "code",
   "execution_count": 157,
   "outputs": [
    {
     "name": "stdout",
     "output_type": "stream",
     "text": [
      "[BERT GaussianNB]                    Balanced accuracy: 97.60%\n",
      "[BERT SVC]                           Balanced accuracy: 97.82%\n"
     ]
    },
    {
     "data": {
      "text/plain": "<Figure size 432x288 with 2 Axes>",
      "image/png": "[encoded data removed]"
     },
     "metadata": {},
     "output_type": "display_data"
    },
    {
     "data": {
      "text/plain": "<Figure size 432x288 with 1 Axes>",
      "image/png": "[encoded data removed]"
     },
     "metadata": {},
     "output_type": "display_data"
    },
    {
     "data": {
      "text/plain": "<Figure size 432x288 with 2 Axes>",
      "image/png": "[encoded data removed]"
     },
     "metadata": {},
     "output_type": "display_data"
    },
    {
     "data": {
      "text/plain": "<Figure size 432x288 with 1 Axes>",
      "image/png": "[encoded data removed]"
     },
     "metadata": {},
     "output_type": "display_data"
    }
   ],
   "source": [
    "for clf in best_classifier[:2]:\n",
    "    train_test_clf(clf, X_train, y_train, X_test, y_test, \"[%s %s] \" % ('BERT', type(clf).__name__), isShow=True)"
   ],
   "metadata": {
    "collapsed": false,
    "pycharm": {
     "name": "#%%\n"
    }
   }
  },
  {
   "cell_type": "markdown",
   "source": [
    "1. clf_with_encoder.ipynb ->acc, bacc, f1, prec, recall(default clf with all encoders)-> BERT在各缺省参数下的分类器均表现优异->clf_result.pkl\n",
    "2. 数据用BERT的->调整参数, 获取最优参数下的分类器-> 保存gs.best_estimator_->使用BERT的数据进行重新拟合,**画图**->acc, bacc, f1, prec, recall(best params clf with bert encoders)->\n",
    "3. Pipeline(bert, clf).fit->七个使用bert"
   ],
   "metadata": {
    "collapsed": false,
    "pycharm": {
     "name": "#%% md\n"
    }
   }
  }
 ],
 "metadata": {
  "kernelspec": {
   "display_name": "Python 3",
   "language": "python",
   "name": "python3"
  },
  "language_info": {
   "codemirror_mode": {
    "name": "ipython",
    "version": 2
   },
   "file_extension": ".py",
   "mimetype": "text/x-python",
   "name": "python",
   "nbconvert_exporter": "python",
   "pygments_lexer": "ipython2",
   "version": "2.7.6"
  }
 },
 "nbformat": 4,
 "nbformat_minor": 0
}