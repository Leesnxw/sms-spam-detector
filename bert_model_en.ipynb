{
 "cells": [
  {
   "cell_type": "code",
   "execution_count": null,
   "metadata": {
    "id": "dcd2f8ec",
    "colab": {
     "base_uri": "https://localhost:8080/"
    },
    "executionInfo": {
     "status": "ok",
     "timestamp": 1650025622400,
     "user_tz": -480,
     "elapsed": 49910,
     "user": {
      "displayName": "Burke Eathan",
      "userId": "17499359335581349339"
     }
    },
    "outputId": "709c811b-4d37-4360-ba47-cabf59c56fec",
    "pycharm": {
     "name": "#%%\n"
    }
   },
   "outputs": [
    {
     "output_type": "stream",
     "name": "stdout",
     "text": [
      "Requirement already satisfied: pandas in /usr/local/lib/python3.7/dist-packages (1.3.5)\n",
      "Requirement already satisfied: numpy>=1.17.3 in /usr/local/lib/python3.7/dist-packages (from pandas) (1.21.5)\n",
      "Requirement already satisfied: python-dateutil>=2.7.3 in /usr/local/lib/python3.7/dist-packages (from pandas) (2.8.2)\n",
      "Requirement already satisfied: pytz>=2017.3 in /usr/local/lib/python3.7/dist-packages (from pandas) (2018.9)\n",
      "Requirement already satisfied: six>=1.5 in /usr/local/lib/python3.7/dist-packages (from python-dateutil>=2.7.3->pandas) (1.15.0)\n",
      "Requirement already satisfied: numpy in /usr/local/lib/python3.7/dist-packages (1.21.5)\n",
      "\u001B[K     |████████████████████████████████| 4.9 MB 7.2 MB/s \n",
      "\u001B[K     |████████████████████████████████| 462 kB 38.1 MB/s \n",
      "\u001B[K     |████████████████████████████████| 1.8 MB 7.4 MB/s \n",
      "\u001B[K     |████████████████████████████████| 1.1 MB 47.4 MB/s \n",
      "\u001B[K     |████████████████████████████████| 47.8 MB 68 kB/s \n",
      "\u001B[K     |████████████████████████████████| 352 kB 40.4 MB/s \n",
      "\u001B[K     |████████████████████████████████| 90 kB 6.8 MB/s \n",
      "\u001B[K     |████████████████████████████████| 237 kB 38.2 MB/s \n",
      "\u001B[K     |████████████████████████████████| 99 kB 5.9 MB/s \n",
      "\u001B[K     |████████████████████████████████| 43 kB 1.6 MB/s \n",
      "\u001B[K     |████████████████████████████████| 596 kB 30.0 MB/s \n",
      "\u001B[K     |████████████████████████████████| 1.2 MB 8.2 MB/s \n",
      "\u001B[?25h  Building wheel for py-cpuinfo (setup.py) ... \u001B[?25l\u001B[?25hdone\n",
      "  Building wheel for seqeval (setup.py) ... \u001B[?25l\u001B[?25hdone\n",
      "Requirement already satisfied: seaborn in /usr/local/lib/python3.7/dist-packages (0.11.2)\n",
      "Requirement already satisfied: numpy>=1.15 in /usr/local/lib/python3.7/dist-packages (from seaborn) (1.21.5)\n",
      "Requirement already satisfied: matplotlib>=2.2 in /usr/local/lib/python3.7/dist-packages (from seaborn) (3.2.2)\n",
      "Requirement already satisfied: pandas>=0.23 in /usr/local/lib/python3.7/dist-packages (from seaborn) (1.3.5)\n",
      "Requirement already satisfied: scipy>=1.0 in /usr/local/lib/python3.7/dist-packages (from seaborn) (1.4.1)\n",
      "Requirement already satisfied: python-dateutil>=2.1 in /usr/local/lib/python3.7/dist-packages (from matplotlib>=2.2->seaborn) (2.8.2)\n",
      "Requirement already satisfied: kiwisolver>=1.0.1 in /usr/local/lib/python3.7/dist-packages (from matplotlib>=2.2->seaborn) (1.4.2)\n",
      "Requirement already satisfied: cycler>=0.10 in /usr/local/lib/python3.7/dist-packages (from matplotlib>=2.2->seaborn) (0.11.0)\n",
      "Requirement already satisfied: pyparsing!=2.0.4,!=2.1.2,!=2.1.6,>=2.0.1 in /usr/local/lib/python3.7/dist-packages (from matplotlib>=2.2->seaborn) (3.0.8)\n",
      "Requirement already satisfied: typing-extensions in /usr/local/lib/python3.7/dist-packages (from kiwisolver>=1.0.1->matplotlib>=2.2->seaborn) (4.1.1)\n",
      "Requirement already satisfied: pytz>=2017.3 in /usr/local/lib/python3.7/dist-packages (from pandas>=0.23->seaborn) (2018.9)\n",
      "Requirement already satisfied: six>=1.5 in /usr/local/lib/python3.7/dist-packages (from python-dateutil>=2.1->matplotlib>=2.2->seaborn) (1.15.0)\n",
      "\n",
      "\n",
      " Installation Done!\n"
     ]
    }
   ],
   "source": [
    "!pip install pandas\n",
    "!pip install numpy\n",
    "!pip install -q -U \"tensorflow-text==2.8.*\"\n",
    "!pip install -q tf-models-official==2.7.0\n",
    "!pip install seaborn\n",
    "# !pip install pickle\n",
    "print(\"\\n\\n Installation Done!\")"
   ],
   "id": "dcd2f8ec"
  },
  {
   "cell_type": "code",
   "source": [
    "!pip show tensorflow"
   ],
   "metadata": {
    "colab": {
     "base_uri": "https://localhost:8080/"
    },
    "id": "Mq3nBNj1L-Cz",
    "executionInfo": {
     "status": "ok",
     "timestamp": 1650025627074,
     "user_tz": -480,
     "elapsed": 3471,
     "user": {
      "displayName": "Burke Eathan",
      "userId": "17499359335581349339"
     }
    },
    "outputId": "f3639372-8f2c-4338-df0a-02670c6cfb97",
    "pycharm": {
     "name": "#%%\n"
    }
   },
   "id": "Mq3nBNj1L-Cz",
   "execution_count": null,
   "outputs": [
    {
     "output_type": "stream",
     "name": "stdout",
     "text": [
      "Name: tensorflow\n",
      "Version: 2.8.0\n",
      "Summary: TensorFlow is an open source machine learning framework for everyone.\n",
      "Home-page: https://www.tensorflow.org/\n",
      "Author: Google Inc.\n",
      "Author-email: packages@tensorflow.org\n",
      "License: Apache 2.0\n",
      "Location: /usr/local/lib/python3.7/dist-packages\n",
      "Requires: keras, typing-extensions, tf-estimator-nightly, grpcio, tensorflow-io-gcs-filesystem, protobuf, flatbuffers, opt-einsum, setuptools, absl-py, google-pasta, gast, termcolor, h5py, numpy, libclang, keras-preprocessing, six, tensorboard, astunparse, wrapt\n",
      "Required-by: tf-models-official, tensorflow-text, kapre\n"
     ]
    }
   ]
  },
  {
   "cell_type": "code",
   "execution_count": null,
   "metadata": {
    "id": "7917fae6",
    "colab": {
     "base_uri": "https://localhost:8080/"
    },
    "executionInfo": {
     "status": "ok",
     "timestamp": 1649854711938,
     "user_tz": -480,
     "elapsed": 2974,
     "user": {
      "displayName": "Burke Eathan",
      "userId": "17499359335581349339"
     }
    },
    "outputId": "5215f791-0a94-4549-a32f-278fd985534b",
    "pycharm": {
     "name": "#%%\n"
    }
   },
   "outputs": [
    {
     "output_type": "stream",
     "name": "stdout",
     "text": [
      "\n",
      "\n",
      " Libraries loaded!\n"
     ]
    }
   ],
   "source": [
    "import tensorflow as tf\n",
    "import tensorflow_hub as hub\n",
    "import tensorflow_text as text\n",
    "from official.nlp import optimization  # to create AdamW optimizer\n",
    "import matplotlib.pyplot as plt\n",
    "from sklearn.model_selection import StratifiedShuffleSplit\n",
    "import pandas as pd\n",
    "import numpy as np\n",
    "import pickle\n",
    "print(\"\\n\\n Libraries loaded!\")"
   ],
   "id": "7917fae6"
  },
  {
   "cell_type": "markdown",
   "metadata": {
    "id": "DBXmZT-EQKq9",
    "pycharm": {
     "name": "#%% md\n"
    }
   },
   "source": [
    "### 加载数据集"
   ],
   "id": "DBXmZT-EQKq9"
  },
  {
   "cell_type": "code",
   "source": [
    "from google.colab import drive \n",
    "drive.mount('/content/gdrive')"
   ],
   "metadata": {
    "colab": {
     "base_uri": "https://localhost:8080/"
    },
    "id": "E0crsiC3BqnF",
    "executionInfo": {
     "status": "ok",
     "timestamp": 1649854734827,
     "user_tz": -480,
     "elapsed": 22899,
     "user": {
      "displayName": "Burke Eathan",
      "userId": "17499359335581349339"
     }
    },
    "outputId": "c787bdb0-d308-4e8c-df9c-d4406f1d12b7",
    "pycharm": {
     "name": "#%%\n"
    }
   },
   "id": "E0crsiC3BqnF",
   "execution_count": null,
   "outputs": [
    {
     "output_type": "stream",
     "name": "stdout",
     "text": [
      "Mounted at /content/gdrive\n"
     ]
    }
   ]
  },
  {
   "cell_type": "code",
   "source": [
    "df = pd.read_csv(r'/content/gdrive/MyDrive/SpamDetection/data/spam.csv')"
   ],
   "metadata": {
    "id": "S5DsmD8b126U",
    "pycharm": {
     "name": "#%%\n"
    }
   },
   "id": "S5DsmD8b126U",
   "execution_count": null,
   "outputs": []
  },
  {
   "cell_type": "code",
   "execution_count": null,
   "metadata": {
    "id": "1be13cd1",
    "pycharm": {
     "name": "#%%\n"
    }
   },
   "outputs": [],
   "source": [
    "# with open(r'/content/gdrive/MyDrive/SpamDetection/data/sms_data_train_s.pkl', 'rb') as f1:\n",
    "#   train = pickle.load(f1)\n",
    "# with open(r'/content/gdrive/MyDrive/SpamDetection/data/sms_data_valid_s.pkl', 'rb') as f2:\n",
    "#   valid = pickle.load(f2)\n",
    "# with open(r'/content/gdrive/MyDrive/SpamDetection/data/sms_data_test_s.pkl', 'rb') as f3:\n",
    "#   test = pickle.load(f3)"
   ],
   "id": "1be13cd1"
  },
  {
   "cell_type": "code",
   "source": [
    "df.head()"
   ],
   "metadata": {
    "id": "d_EGU4MuFvCj",
    "executionInfo": {
     "status": "ok",
     "timestamp": 1649854735720,
     "user_tz": -480,
     "elapsed": 46,
     "user": {
      "displayName": "Burke Eathan",
      "userId": "17499359335581349339"
     }
    },
    "colab": {
     "base_uri": "https://localhost:8080/",
     "height": 206
    },
    "outputId": "f4b9c932-84f8-4e89-c171-76e1a7be952b",
    "pycharm": {
     "name": "#%%\n"
    }
   },
   "id": "d_EGU4MuFvCj",
   "execution_count": null,
   "outputs": [
    {
     "output_type": "execute_result",
     "data": {
      "text/plain": [
       "  label                                            message\n",
       "0   ham  Go until jurong point, crazy.. Available only ...\n",
       "1   ham                      Ok lar... Joking wif u oni...\n",
       "2  spam  Free entry in 2 a wkly comp to win FA Cup fina...\n",
       "3   ham  U dun say so early hor... U c already then say...\n",
       "4   ham  Nah I don't think he goes to usf, he lives aro..."
      ],
      "text/html": [
       "\n",
       "  <div id=\"df-d88e167b-3db6-4d17-be29-9847800a027f\">\n",
       "    <div class=\"colab-df-container\">\n",
       "      <div>\n",
       "<style scoped>\n",
       "    .dataframe tbody tr th:only-of-type {\n",
       "        vertical-align: middle;\n",
       "    }\n",
       "\n",
       "    .dataframe tbody tr th {\n",
       "        vertical-align: top;\n",
       "    }\n",
       "\n",
       "    .dataframe thead th {\n",
       "        text-align: right;\n",
       "    }\n",
       "</style>\n",
       "<table border=\"1\" class=\"dataframe\">\n",
       "  <thead>\n",
       "    <tr style=\"text-align: right;\">\n",
       "      <th></th>\n",
       "      <th>label</th>\n",
       "      <th>message</th>\n",
       "    </tr>\n",
       "  </thead>\n",
       "  <tbody>\n",
       "    <tr>\n",
       "      <th>0</th>\n",
       "      <td>ham</td>\n",
       "      <td>Go until jurong point, crazy.. Available only ...</td>\n",
       "    </tr>\n",
       "    <tr>\n",
       "      <th>1</th>\n",
       "      <td>ham</td>\n",
       "      <td>Ok lar... Joking wif u oni...</td>\n",
       "    </tr>\n",
       "    <tr>\n",
       "      <th>2</th>\n",
       "      <td>spam</td>\n",
       "      <td>Free entry in 2 a wkly comp to win FA Cup fina...</td>\n",
       "    </tr>\n",
       "    <tr>\n",
       "      <th>3</th>\n",
       "      <td>ham</td>\n",
       "      <td>U dun say so early hor... U c already then say...</td>\n",
       "    </tr>\n",
       "    <tr>\n",
       "      <th>4</th>\n",
       "      <td>ham</td>\n",
       "      <td>Nah I don't think he goes to usf, he lives aro...</td>\n",
       "    </tr>\n",
       "  </tbody>\n",
       "</table>\n",
       "</div>\n",
       "      <button class=\"colab-df-convert\" onclick=\"convertToInteractive('df-d88e167b-3db6-4d17-be29-9847800a027f')\"\n",
       "              title=\"Convert this dataframe to an interactive table.\"\n",
       "              style=\"display:none;\">\n",
       "        \n",
       "  <svg xmlns=\"http://www.w3.org/2000/svg\" height=\"24px\"viewBox=\"0 0 24 24\"\n",
       "       width=\"24px\">\n",
       "    <path d=\"M0 0h24v24H0V0z\" fill=\"none\"/>\n",
       "    <path d=\"M18.56 5.44l.94 2.06.94-2.06 2.06-.94-2.06-.94-.94-2.06-.94 2.06-2.06.94zm-11 1L8.5 8.5l.94-2.06 2.06-.94-2.06-.94L8.5 2.5l-.94 2.06-2.06.94zm10 10l.94 2.06.94-2.06 2.06-.94-2.06-.94-.94-2.06-.94 2.06-2.06.94z\"/><path d=\"M17.41 7.96l-1.37-1.37c-.4-.4-.92-.59-1.43-.59-.52 0-1.04.2-1.43.59L10.3 9.45l-7.72 7.72c-.78.78-.78 2.05 0 2.83L4 21.41c.39.39.9.59 1.41.59.51 0 1.02-.2 1.41-.59l7.78-7.78 2.81-2.81c.8-.78.8-2.07 0-2.86zM5.41 20L4 18.59l7.72-7.72 1.47 1.35L5.41 20z\"/>\n",
       "  </svg>\n",
       "      </button>\n",
       "      \n",
       "  <style>\n",
       "    .colab-df-container {\n",
       "      display:flex;\n",
       "      flex-wrap:wrap;\n",
       "      gap: 12px;\n",
       "    }\n",
       "\n",
       "    .colab-df-convert {\n",
       "      background-color: #E8F0FE;\n",
       "      border: none;\n",
       "      border-radius: 50%;\n",
       "      cursor: pointer;\n",
       "      display: none;\n",
       "      fill: #1967D2;\n",
       "      height: 32px;\n",
       "      padding: 0 0 0 0;\n",
       "      width: 32px;\n",
       "    }\n",
       "\n",
       "    .colab-df-convert:hover {\n",
       "      background-color: #E2EBFA;\n",
       "      box-shadow: 0px 1px 2px rgba(60, 64, 67, 0.3), 0px 1px 3px 1px rgba(60, 64, 67, 0.15);\n",
       "      fill: #174EA6;\n",
       "    }\n",
       "\n",
       "    [theme=dark] .colab-df-convert {\n",
       "      background-color: #3B4455;\n",
       "      fill: #D2E3FC;\n",
       "    }\n",
       "\n",
       "    [theme=dark] .colab-df-convert:hover {\n",
       "      background-color: #434B5C;\n",
       "      box-shadow: 0px 1px 3px 1px rgba(0, 0, 0, 0.15);\n",
       "      filter: drop-shadow(0px 1px 2px rgba(0, 0, 0, 0.3));\n",
       "      fill: #FFFFFF;\n",
       "    }\n",
       "  </style>\n",
       "\n",
       "      <script>\n",
       "        const buttonEl =\n",
       "          document.querySelector('#df-d88e167b-3db6-4d17-be29-9847800a027f button.colab-df-convert');\n",
       "        buttonEl.style.display =\n",
       "          google.colab.kernel.accessAllowed ? 'block' : 'none';\n",
       "\n",
       "        async function convertToInteractive(key) {\n",
       "          const element = document.querySelector('#df-d88e167b-3db6-4d17-be29-9847800a027f');\n",
       "          const dataTable =\n",
       "            await google.colab.kernel.invokeFunction('convertToInteractive',\n",
       "                                                     [key], {});\n",
       "          if (!dataTable) return;\n",
       "\n",
       "          const docLinkHtml = 'Like what you see? Visit the ' +\n",
       "            '<a target=\"_blank\" href=https://colab.research.google.com/notebooks/data_table.ipynb>data table notebook</a>'\n",
       "            + ' to learn more about interactive tables.';\n",
       "          element.innerHTML = '';\n",
       "          dataTable['output_type'] = 'display_data';\n",
       "          await google.colab.output.renderOutput(dataTable, element);\n",
       "          const docLink = document.createElement('div');\n",
       "          docLink.innerHTML = docLinkHtml;\n",
       "          element.appendChild(docLink);\n",
       "        }\n",
       "      </script>\n",
       "    </div>\n",
       "  </div>\n",
       "  "
      ]
     },
     "metadata": {},
     "execution_count": 6
    }
   ]
  },
  {
   "cell_type": "code",
   "source": [
    "df['label'].value_counts()"
   ],
   "metadata": {
    "colab": {
     "base_uri": "https://localhost:8080/"
    },
    "id": "w8qII6d63Fi8",
    "executionInfo": {
     "status": "ok",
     "timestamp": 1649854735721,
     "user_tz": -480,
     "elapsed": 41,
     "user": {
      "displayName": "Burke Eathan",
      "userId": "17499359335581349339"
     }
    },
    "outputId": "bf4776a8-7fb2-46dc-d40c-c7a4af83dc42",
    "pycharm": {
     "name": "#%%\n"
    }
   },
   "id": "w8qII6d63Fi8",
   "execution_count": null,
   "outputs": [
    {
     "output_type": "execute_result",
     "data": {
      "text/plain": [
       "ham     4825\n",
       "spam     747\n",
       "Name: label, dtype: int64"
      ]
     },
     "metadata": {},
     "execution_count": 7
    }
   ]
  },
  {
   "cell_type": "markdown",
   "metadata": {
    "id": "9HP6qSX8QEZ2",
    "pycharm": {
     "name": "#%% md\n"
    }
   },
   "source": [
    "### 转换为预处理模型输入格式"
   ],
   "id": "9HP6qSX8QEZ2"
  },
  {
   "cell_type": "code",
   "execution_count": null,
   "metadata": {
    "id": "4h6wUNSnJhwJ",
    "pycharm": {
     "name": "#%%\n"
    }
   },
   "outputs": [],
   "source": [
    "# def convert_map(x):\n",
    "#   return x[0], tf.cast(int(x[1]), tf.int32)\n",
    "\n",
    "  \n",
    "# def convert_to_preprocess_input(ds, seed, batch_size):\n",
    "#   ds = tf.data.Dataset.from_tensor_slices(ds.values.tolist()).map(lambda x: convert_map(x))\n",
    "#   return ds.shuffle(buffer_size=len(ds), seed=seed).batch(batch_size)"
   ],
   "id": "4h6wUNSnJhwJ"
  },
  {
   "cell_type": "code",
   "execution_count": null,
   "metadata": {
    "id": "bzwmX6CzJJs-",
    "pycharm": {
     "name": "#%%\n"
    }
   },
   "outputs": [],
   "source": [
    "# seed = 42\n",
    "# batch_size = 32"
   ],
   "id": "bzwmX6CzJJs-"
  },
  {
   "cell_type": "code",
   "execution_count": null,
   "metadata": {
    "id": "7mkcsbYdYTyV",
    "pycharm": {
     "name": "#%%\n"
    }
   },
   "outputs": [],
   "source": [
    "# train_ds = convert_to_preprocess_input(train, seed, batch_size)\n",
    "# valid_ds = convert_to_preprocess_input(valid, seed, batch_size)\n",
    "# test_ds = convert_to_preprocess_input(test, seed, batch_size)"
   ],
   "id": "7mkcsbYdYTyV"
  },
  {
   "cell_type": "code",
   "execution_count": null,
   "metadata": {
    "id": "0ZJKqp9vDctU",
    "pycharm": {
     "name": "#%%\n"
    }
   },
   "outputs": [],
   "source": [
    "# print(next(train_ds.as_numpy_iterator()))"
   ],
   "id": "0ZJKqp9vDctU"
  },
  {
   "cell_type": "code",
   "source": [
    "df['label'].head()"
   ],
   "metadata": {
    "colab": {
     "base_uri": "https://localhost:8080/"
    },
    "id": "734sMqKS5lU6",
    "executionInfo": {
     "status": "ok",
     "timestamp": 1649854735728,
     "user_tz": -480,
     "elapsed": 32,
     "user": {
      "displayName": "Burke Eathan",
      "userId": "17499359335581349339"
     }
    },
    "outputId": "1a17fd3f-fc21-4e92-cc9f-20ca4a4f6196",
    "pycharm": {
     "name": "#%%\n"
    }
   },
   "id": "734sMqKS5lU6",
   "execution_count": null,
   "outputs": [
    {
     "output_type": "execute_result",
     "data": {
      "text/plain": [
       "0     ham\n",
       "1     ham\n",
       "2    spam\n",
       "3     ham\n",
       "4     ham\n",
       "Name: label, dtype: object"
      ]
     },
     "metadata": {},
     "execution_count": 12
    }
   ]
  },
  {
   "cell_type": "code",
   "source": [
    "df_spam = df[df['label']=='spam']\n",
    "df_spam.shape"
   ],
   "metadata": {
    "colab": {
     "base_uri": "https://localhost:8080/"
    },
    "id": "RBps7-sE4z7N",
    "executionInfo": {
     "status": "ok",
     "timestamp": 1649854735730,
     "user_tz": -480,
     "elapsed": 31,
     "user": {
      "displayName": "Burke Eathan",
      "userId": "17499359335581349339"
     }
    },
    "outputId": "6d5324ae-c2cd-4a8b-e1fb-534f6a388be0",
    "pycharm": {
     "name": "#%%\n"
    }
   },
   "id": "RBps7-sE4z7N",
   "execution_count": null,
   "outputs": [
    {
     "output_type": "execute_result",
     "data": {
      "text/plain": [
       "(747, 2)"
      ]
     },
     "metadata": {},
     "execution_count": 13
    }
   ]
  },
  {
   "cell_type": "code",
   "source": [
    "df_ham = df[df['label']=='ham']\n",
    "df_ham.shape"
   ],
   "metadata": {
    "colab": {
     "base_uri": "https://localhost:8080/"
    },
    "id": "e6oqgS2M5Vri",
    "executionInfo": {
     "status": "ok",
     "timestamp": 1649854735731,
     "user_tz": -480,
     "elapsed": 27,
     "user": {
      "displayName": "Burke Eathan",
      "userId": "17499359335581349339"
     }
    },
    "outputId": "b126f736-5b8e-4ae1-cd19-f1e45bb89d52",
    "pycharm": {
     "name": "#%%\n"
    }
   },
   "id": "e6oqgS2M5Vri",
   "execution_count": null,
   "outputs": [
    {
     "output_type": "execute_result",
     "data": {
      "text/plain": [
       "(4825, 2)"
      ]
     },
     "metadata": {},
     "execution_count": 14
    }
   ]
  },
  {
   "cell_type": "code",
   "source": [
    "df_ham_downsampled = df_ham.sample(df_spam.shape[0])\n",
    "df_ham_downsampled.shape"
   ],
   "metadata": {
    "colab": {
     "base_uri": "https://localhost:8080/"
    },
    "id": "Zm22jt2d5YUE",
    "executionInfo": {
     "status": "ok",
     "timestamp": 1649854736238,
     "user_tz": -480,
     "elapsed": 532,
     "user": {
      "displayName": "Burke Eathan",
      "userId": "17499359335581349339"
     }
    },
    "outputId": "407058b5-0498-4ae1-8652-a7dd88f20c50",
    "pycharm": {
     "name": "#%%\n"
    }
   },
   "id": "Zm22jt2d5YUE",
   "execution_count": null,
   "outputs": [
    {
     "output_type": "execute_result",
     "data": {
      "text/plain": [
       "(747, 2)"
      ]
     },
     "metadata": {},
     "execution_count": 15
    }
   ]
  },
  {
   "cell_type": "code",
   "source": [
    "df_balanced = pd.concat([df_ham_downsampled, df_spam])\n",
    "df_balanced.shape"
   ],
   "metadata": {
    "colab": {
     "base_uri": "https://localhost:8080/"
    },
    "id": "vzoFTwb85aMu",
    "executionInfo": {
     "status": "ok",
     "timestamp": 1649854736239,
     "user_tz": -480,
     "elapsed": 37,
     "user": {
      "displayName": "Burke Eathan",
      "userId": "17499359335581349339"
     }
    },
    "outputId": "a484a895-0ab2-4fbf-f1e2-80ecbc8d70e4",
    "pycharm": {
     "name": "#%%\n"
    }
   },
   "id": "vzoFTwb85aMu",
   "execution_count": null,
   "outputs": [
    {
     "output_type": "execute_result",
     "data": {
      "text/plain": [
       "(1494, 2)"
      ]
     },
     "metadata": {},
     "execution_count": 16
    }
   ]
  },
  {
   "cell_type": "code",
   "source": [
    "df_balanced['label'].value_counts()"
   ],
   "metadata": {
    "colab": {
     "base_uri": "https://localhost:8080/"
    },
    "id": "fxO49TDu6MKI",
    "executionInfo": {
     "status": "ok",
     "timestamp": 1649854736241,
     "user_tz": -480,
     "elapsed": 33,
     "user": {
      "displayName": "Burke Eathan",
      "userId": "17499359335581349339"
     }
    },
    "outputId": "72a94003-6dbb-45e0-99dd-04f020519b90",
    "pycharm": {
     "name": "#%%\n"
    }
   },
   "id": "fxO49TDu6MKI",
   "execution_count": null,
   "outputs": [
    {
     "output_type": "execute_result",
     "data": {
      "text/plain": [
       "ham     747\n",
       "spam    747\n",
       "Name: label, dtype: int64"
      ]
     },
     "metadata": {},
     "execution_count": 17
    }
   ]
  },
  {
   "cell_type": "code",
   "source": [
    "df_balanced['spam']=df_balanced['label'].apply(lambda x: 1 if x=='spam' else 0)\n",
    "df_balanced.sample(5)"
   ],
   "metadata": {
    "colab": {
     "base_uri": "https://localhost:8080/",
     "height": 206
    },
    "id": "wtjbc6Ze6QH8",
    "executionInfo": {
     "status": "ok",
     "timestamp": 1649854736242,
     "user_tz": -480,
     "elapsed": 27,
     "user": {
      "displayName": "Burke Eathan",
      "userId": "17499359335581349339"
     }
    },
    "outputId": "9669a929-45b9-4dd7-b777-218be7661db2",
    "pycharm": {
     "name": "#%%\n"
    }
   },
   "id": "wtjbc6Ze6QH8",
   "execution_count": null,
   "outputs": [
    {
     "output_type": "execute_result",
     "data": {
      "text/plain": [
       "     label                                            message  spam\n",
       "1956   ham     K...k:)why cant you come here and search job:)     0\n",
       "812   spam  Congratulations ur awarded either å£500 of CD ...     1\n",
       "702    ham  What is important is that you prevent dehydrat...     0\n",
       "2291   ham       Remind me how to get there and I shall do so     0\n",
       "2415   ham  Huh means computational science... Y they like...     0"
      ],
      "text/html": [
       "\n",
       "  <div id=\"df-2534d4a7-7f2a-498e-b56f-fcd62bb6b139\">\n",
       "    <div class=\"colab-df-container\">\n",
       "      <div>\n",
       "<style scoped>\n",
       "    .dataframe tbody tr th:only-of-type {\n",
       "        vertical-align: middle;\n",
       "    }\n",
       "\n",
       "    .dataframe tbody tr th {\n",
       "        vertical-align: top;\n",
       "    }\n",
       "\n",
       "    .dataframe thead th {\n",
       "        text-align: right;\n",
       "    }\n",
       "</style>\n",
       "<table border=\"1\" class=\"dataframe\">\n",
       "  <thead>\n",
       "    <tr style=\"text-align: right;\">\n",
       "      <th></th>\n",
       "      <th>label</th>\n",
       "      <th>message</th>\n",
       "      <th>spam</th>\n",
       "    </tr>\n",
       "  </thead>\n",
       "  <tbody>\n",
       "    <tr>\n",
       "      <th>1956</th>\n",
       "      <td>ham</td>\n",
       "      <td>K...k:)why cant you come here and search job:)</td>\n",
       "      <td>0</td>\n",
       "    </tr>\n",
       "    <tr>\n",
       "      <th>812</th>\n",
       "      <td>spam</td>\n",
       "      <td>Congratulations ur awarded either å£500 of CD ...</td>\n",
       "      <td>1</td>\n",
       "    </tr>\n",
       "    <tr>\n",
       "      <th>702</th>\n",
       "      <td>ham</td>\n",
       "      <td>What is important is that you prevent dehydrat...</td>\n",
       "      <td>0</td>\n",
       "    </tr>\n",
       "    <tr>\n",
       "      <th>2291</th>\n",
       "      <td>ham</td>\n",
       "      <td>Remind me how to get there and I shall do so</td>\n",
       "      <td>0</td>\n",
       "    </tr>\n",
       "    <tr>\n",
       "      <th>2415</th>\n",
       "      <td>ham</td>\n",
       "      <td>Huh means computational science... Y they like...</td>\n",
       "      <td>0</td>\n",
       "    </tr>\n",
       "  </tbody>\n",
       "</table>\n",
       "</div>\n",
       "      <button class=\"colab-df-convert\" onclick=\"convertToInteractive('df-2534d4a7-7f2a-498e-b56f-fcd62bb6b139')\"\n",
       "              title=\"Convert this dataframe to an interactive table.\"\n",
       "              style=\"display:none;\">\n",
       "        \n",
       "  <svg xmlns=\"http://www.w3.org/2000/svg\" height=\"24px\"viewBox=\"0 0 24 24\"\n",
       "       width=\"24px\">\n",
       "    <path d=\"M0 0h24v24H0V0z\" fill=\"none\"/>\n",
       "    <path d=\"M18.56 5.44l.94 2.06.94-2.06 2.06-.94-2.06-.94-.94-2.06-.94 2.06-2.06.94zm-11 1L8.5 8.5l.94-2.06 2.06-.94-2.06-.94L8.5 2.5l-.94 2.06-2.06.94zm10 10l.94 2.06.94-2.06 2.06-.94-2.06-.94-.94-2.06-.94 2.06-2.06.94z\"/><path d=\"M17.41 7.96l-1.37-1.37c-.4-.4-.92-.59-1.43-.59-.52 0-1.04.2-1.43.59L10.3 9.45l-7.72 7.72c-.78.78-.78 2.05 0 2.83L4 21.41c.39.39.9.59 1.41.59.51 0 1.02-.2 1.41-.59l7.78-7.78 2.81-2.81c.8-.78.8-2.07 0-2.86zM5.41 20L4 18.59l7.72-7.72 1.47 1.35L5.41 20z\"/>\n",
       "  </svg>\n",
       "      </button>\n",
       "      \n",
       "  <style>\n",
       "    .colab-df-container {\n",
       "      display:flex;\n",
       "      flex-wrap:wrap;\n",
       "      gap: 12px;\n",
       "    }\n",
       "\n",
       "    .colab-df-convert {\n",
       "      background-color: #E8F0FE;\n",
       "      border: none;\n",
       "      border-radius: 50%;\n",
       "      cursor: pointer;\n",
       "      display: none;\n",
       "      fill: #1967D2;\n",
       "      height: 32px;\n",
       "      padding: 0 0 0 0;\n",
       "      width: 32px;\n",
       "    }\n",
       "\n",
       "    .colab-df-convert:hover {\n",
       "      background-color: #E2EBFA;\n",
       "      box-shadow: 0px 1px 2px rgba(60, 64, 67, 0.3), 0px 1px 3px 1px rgba(60, 64, 67, 0.15);\n",
       "      fill: #174EA6;\n",
       "    }\n",
       "\n",
       "    [theme=dark] .colab-df-convert {\n",
       "      background-color: #3B4455;\n",
       "      fill: #D2E3FC;\n",
       "    }\n",
       "\n",
       "    [theme=dark] .colab-df-convert:hover {\n",
       "      background-color: #434B5C;\n",
       "      box-shadow: 0px 1px 3px 1px rgba(0, 0, 0, 0.15);\n",
       "      filter: drop-shadow(0px 1px 2px rgba(0, 0, 0, 0.3));\n",
       "      fill: #FFFFFF;\n",
       "    }\n",
       "  </style>\n",
       "\n",
       "      <script>\n",
       "        const buttonEl =\n",
       "          document.querySelector('#df-2534d4a7-7f2a-498e-b56f-fcd62bb6b139 button.colab-df-convert');\n",
       "        buttonEl.style.display =\n",
       "          google.colab.kernel.accessAllowed ? 'block' : 'none';\n",
       "\n",
       "        async function convertToInteractive(key) {\n",
       "          const element = document.querySelector('#df-2534d4a7-7f2a-498e-b56f-fcd62bb6b139');\n",
       "          const dataTable =\n",
       "            await google.colab.kernel.invokeFunction('convertToInteractive',\n",
       "                                                     [key], {});\n",
       "          if (!dataTable) return;\n",
       "\n",
       "          const docLinkHtml = 'Like what you see? Visit the ' +\n",
       "            '<a target=\"_blank\" href=https://colab.research.google.com/notebooks/data_table.ipynb>data table notebook</a>'\n",
       "            + ' to learn more about interactive tables.';\n",
       "          element.innerHTML = '';\n",
       "          dataTable['output_type'] = 'display_data';\n",
       "          await google.colab.output.renderOutput(dataTable, element);\n",
       "          const docLink = document.createElement('div');\n",
       "          docLink.innerHTML = docLinkHtml;\n",
       "          element.appendChild(docLink);\n",
       "        }\n",
       "      </script>\n",
       "    </div>\n",
       "  </div>\n",
       "  "
      ]
     },
     "metadata": {},
     "execution_count": 18
    }
   ]
  },
  {
   "cell_type": "code",
   "source": [
    "from sklearn.model_selection import train_test_split\n",
    "\n",
    "X_train, X_test, y_train, y_test = train_test_split(df_balanced['message'],df_balanced['spam'], stratify=df_balanced['spam'])"
   ],
   "metadata": {
    "id": "OmofxxqX4wQ3",
    "pycharm": {
     "name": "#%%\n"
    }
   },
   "id": "OmofxxqX4wQ3",
   "execution_count": null,
   "outputs": []
  },
  {
   "cell_type": "code",
   "source": [
    "X_train.head()"
   ],
   "metadata": {
    "colab": {
     "base_uri": "https://localhost:8080/"
    },
    "id": "IPapN0dC6e00",
    "executionInfo": {
     "status": "ok",
     "timestamp": 1649854736243,
     "user_tz": -480,
     "elapsed": 23,
     "user": {
      "displayName": "Burke Eathan",
      "userId": "17499359335581349339"
     }
    },
    "outputId": "6082c089-0ea9-4e83-d634-99fc9d1e97ab",
    "pycharm": {
     "name": "#%%\n"
    }
   },
   "id": "IPapN0dC6e00",
   "execution_count": null,
   "outputs": [
    {
     "output_type": "execute_result",
     "data": {
      "text/plain": [
       "1125    For taking part in our mobile survey yesterday...\n",
       "1040    Today am going to college so am not able to at...\n",
       "4002    somewhere out there beneath the pale moon ligh...\n",
       "3885    Same, I'm at my great aunts anniversary party ...\n",
       "1577    Remember all those whom i hurt during days of ...\n",
       "Name: message, dtype: object"
      ]
     },
     "metadata": {},
     "execution_count": 20
    }
   ]
  },
  {
   "cell_type": "markdown",
   "metadata": {
    "id": "P4_yyKPHQSzq",
    "pycharm": {
     "name": "#%% md\n"
    }
   },
   "source": [
    "### 加载预处理模型和BERT模型"
   ],
   "id": "P4_yyKPHQSzq"
  },
  {
   "cell_type": "code",
   "execution_count": null,
   "metadata": {
    "id": "CFYobeOAQBO_",
    "pycharm": {
     "name": "#%%\n"
    }
   },
   "outputs": [],
   "source": [
    "tfhub_handle_preprocess = 'https://tfhub.dev/tensorflow/bert_en_uncased_preprocess/3'\n",
    "tfhub_handle_encoder = 'https://tfhub.dev/tensorflow/small_bert/bert_en_uncased_L-4_H-512_A-8/1'"
   ],
   "id": "CFYobeOAQBO_"
  },
  {
   "cell_type": "markdown",
   "metadata": {
    "id": "8TcSHRVCQ0SH",
    "pycharm": {
     "name": "#%% md\n"
    }
   },
   "source": [
    "### 定义模型"
   ],
   "id": "8TcSHRVCQ0SH"
  },
  {
   "cell_type": "code",
   "execution_count": null,
   "metadata": {
    "id": "-6vZ-wsyQwuI",
    "pycharm": {
     "name": "#%%\n"
    }
   },
   "outputs": [],
   "source": [
    "def build_classifier_model():\n",
    "  text_input = tf.keras.layers.Input(shape=(), dtype=tf.string, name='text')\n",
    "  preprocessing_layer = hub.KerasLayer(tfhub_handle_preprocess, name='preprocessing')\n",
    "  encoder_inputs = preprocessing_layer(text_input)\n",
    "  encoder = hub.KerasLayer(tfhub_handle_encoder, trainable=True, name='BERT_encoder')\n",
    "  outputs = encoder(encoder_inputs)\n",
    "  net = outputs['pooled_output']\n",
    "  net = tf.keras.layers.Dropout(0.1, name=\"dropout\")(net)\n",
    "  net = tf.keras.layers.Dense(1, activation='sigmoid', name='classifier')(net)\n",
    "  return tf.keras.Model(text_input, net)"
   ],
   "id": "-6vZ-wsyQwuI"
  },
  {
   "cell_type": "code",
   "source": [
    "classifier_model = build_classifier_model()"
   ],
   "metadata": {
    "id": "qaQWy-jO747d",
    "pycharm": {
     "name": "#%%\n"
    }
   },
   "id": "qaQWy-jO747d",
   "execution_count": null,
   "outputs": []
  },
  {
   "cell_type": "markdown",
   "metadata": {
    "id": "dtAQ0U9sQeRD",
    "pycharm": {
     "name": "#%% md\n"
    }
   },
   "source": [
    "### 查看单个样本处理结果（可跳过）"
   ],
   "id": "dtAQ0U9sQeRD"
  },
  {
   "cell_type": "code",
   "execution_count": null,
   "metadata": {
    "id": "QGRx4QoWQa4o",
    "pycharm": {
     "name": "#%%\n"
    }
   },
   "outputs": [],
   "source": [
    "# bert_preprocess_model = hub.KerasLayer(tfhub_handle_preprocess)\n",
    "# bert_model = hub.KerasLayer(tfhub_handle_encoder)"
   ],
   "id": "QGRx4QoWQa4o"
  },
  {
   "cell_type": "code",
   "source": [
    "# print(test_ds)"
   ],
   "metadata": {
    "id": "N8nn0vS3Cavr",
    "pycharm": {
     "name": "#%%\n"
    }
   },
   "id": "N8nn0vS3Cavr",
   "execution_count": null,
   "outputs": []
  },
  {
   "cell_type": "code",
   "execution_count": null,
   "metadata": {
    "id": "Fl85_OmRQoIG",
    "pycharm": {
     "name": "#%%\n"
    }
   },
   "outputs": [],
   "source": [
    "# text_test = ['自然语言处理与算法']\n",
    "# text_preprocessed = bert_preprocess_model(text_test)\n",
    "\n",
    "# print(f'Keys       : {list(text_preprocessed.keys())}')\n",
    "# print(f'Shape      : {text_preprocessed[\"input_word_ids\"].shape}')\n",
    "# print(f'Word Ids   : {text_preprocessed[\"input_word_ids\"][0, :12]}')\n",
    "# print(f'Input Mask : {text_preprocessed[\"input_mask\"][0, :12]}')\n",
    "# print(f'Type Ids   : {text_preprocessed[\"input_type_ids\"][0, :12]}')"
   ],
   "id": "Fl85_OmRQoIG"
  },
  {
   "cell_type": "code",
   "execution_count": null,
   "metadata": {
    "id": "R_WzLI5NRDzy",
    "pycharm": {
     "name": "#%%\n"
    }
   },
   "outputs": [],
   "source": [
    "# bert_results = bert_model(text_preprocessed)\n",
    "\n",
    "# print(f'Loaded BERT: {tfhub_handle_encoder}')\n",
    "# print(f'Pooled Outputs Shape:{bert_results[\"pooled_output\"].shape}')\n",
    "# print(f'Pooled Outputs Values:{bert_results[\"pooled_output\"][0, :12]}')\n",
    "# print(f'Sequence Outputs Shape:{bert_results[\"sequence_output\"].shape}')\n",
    "# print(f'Sequence Outputs Values:{bert_results[\"sequence_output\"][0, :12]}')"
   ],
   "id": "R_WzLI5NRDzy"
  },
  {
   "cell_type": "code",
   "execution_count": null,
   "metadata": {
    "id": "GHCM8DxERXSq",
    "pycharm": {
     "name": "#%%\n"
    }
   },
   "outputs": [],
   "source": [
    "# bert_raw_result = classifier_model(tf.constant(text_test))\n",
    "# print(tf.sigmoid(bert_raw_result))"
   ],
   "id": "GHCM8DxERXSq"
  },
  {
   "cell_type": "markdown",
   "source": [
    "### 模型结构"
   ],
   "metadata": {
    "id": "cOvr-CKG2C3d",
    "pycharm": {
     "name": "#%% md\n"
    }
   },
   "id": "cOvr-CKG2C3d"
  },
  {
   "cell_type": "code",
   "execution_count": null,
   "metadata": {
    "id": "VS0-4ulxSKsF",
    "executionInfo": {
     "status": "ok",
     "timestamp": 1649856389091,
     "user_tz": -480,
     "elapsed": 108,
     "user": {
      "displayName": "Burke Eathan",
      "userId": "17499359335581349339"
     }
    },
    "colab": {
     "base_uri": "https://localhost:8080/",
     "height": 466
    },
    "outputId": "bb083628-87cb-40cc-a898-b50f8ba0cab1",
    "pycharm": {
     "name": "#%%\n"
    }
   },
   "outputs": [
    {
     "output_type": "execute_result",
     "data": {
      "text/plain": [
       "<IPython.core.display.Image object>"
      ],
      "image/png": "[encoded data removed]"
     },
     "metadata": {},
     "execution_count": 63
    }
   ],
   "source": [
    "tf.keras.utils.plot_model(classifier_model)"
   ],
   "id": "VS0-4ulxSKsF"
  },
  {
   "cell_type": "markdown",
   "metadata": {
    "id": "xrEjsykxSMt2",
    "pycharm": {
     "name": "#%% md\n"
    }
   },
   "source": [
    "### 训练模型"
   ],
   "id": "xrEjsykxSMt2"
  },
  {
   "cell_type": "markdown",
   "metadata": {
    "id": "bM7qAWRQSTiJ",
    "pycharm": {
     "name": "#%% md\n"
    }
   },
   "source": [
    "#### 损失函数"
   ],
   "id": "bM7qAWRQSTiJ"
  },
  {
   "cell_type": "code",
   "execution_count": null,
   "metadata": {
    "id": "3IYMVpX6SPN-",
    "pycharm": {
     "name": "#%%\n"
    }
   },
   "outputs": [],
   "source": [
    "# loss = tf.keras.losses.BinaryCrossentropy(from_logits=True)\n",
    "# metrics = tf.metrics.BinaryAccuracy()\n",
    "METRICS = [\n",
    "      tf.keras.metrics.BinaryAccuracy(name='accuracy'),\n",
    "      tf.keras.metrics.Precision(name='precision'),\n",
    "      tf.keras.metrics.Recall(name='recall')\n",
    "]"
   ],
   "id": "3IYMVpX6SPN-"
  },
  {
   "cell_type": "markdown",
   "metadata": {
    "id": "Rv1Hm2J4SY1u",
    "pycharm": {
     "name": "#%% md\n"
    }
   },
   "source": [
    "#### 优化器"
   ],
   "id": "Rv1Hm2J4SY1u"
  },
  {
   "cell_type": "code",
   "execution_count": null,
   "metadata": {
    "id": "Gg4rPvJmSaOW",
    "pycharm": {
     "name": "#%%\n"
    }
   },
   "outputs": [],
   "source": [
    "# epochs = 2\n",
    "# steps_per_epoch = tf.data.experimental.cardinality(train_ds).numpy()\n",
    "# num_train_steps = steps_per_epoch * epochs\n",
    "# num_warmup_steps = int(0.1*num_train_steps)\n",
    "\n",
    "# init_lr = 3e-5\n",
    "# optimizer = optimization.create_optimizer(init_lr=init_lr,\n",
    "#                       num_train_steps=num_train_steps,\n",
    "#                       num_warmup_steps=num_warmup_steps,\n",
    "#                       optimizer_type='adamw')"
   ],
   "id": "Gg4rPvJmSaOW"
  },
  {
   "cell_type": "code",
   "source": [
    "classifier_model.summary()"
   ],
   "metadata": {
    "id": "VNSeeYQQyZLD",
    "colab": {
     "base_uri": "https://localhost:8080/"
    },
    "executionInfo": {
     "status": "ok",
     "timestamp": 1649857258372,
     "user_tz": -480,
     "elapsed": 51,
     "user": {
      "displayName": "Burke Eathan",
      "userId": "17499359335581349339"
     }
    },
    "outputId": "956d6f2d-1659-420c-f9c3-6bac0a01baf7",
    "pycharm": {
     "name": "#%%\n"
    }
   },
   "id": "VNSeeYQQyZLD",
   "execution_count": null,
   "outputs": [
    {
     "output_type": "stream",
     "name": "stdout",
     "text": [
      "Model: \"model_3\"\n",
      "__________________________________________________________________________________________________\n",
      " Layer (type)                   Output Shape         Param #     Connected to                     \n",
      "==================================================================================================\n",
      " text (InputLayer)              [(None,)]            0           []                               \n",
      "                                                                                                  \n",
      " preprocessing (KerasLayer)     {'input_word_ids':   0           ['text[0][0]']                   \n",
      "                                (None, 128),                                                      \n",
      "                                 'input_type_ids':                                                \n",
      "                                (None, 128),                                                      \n",
      "                                 'input_mask': (Non                                               \n",
      "                                e, 128)}                                                          \n",
      "                                                                                                  \n",
      " BERT_encoder (KerasLayer)      {'encoder_outputs':  28763649    ['preprocessing[0][0]',          \n",
      "                                 [(None, 128, 512),               'preprocessing[0][1]',          \n",
      "                                 (None, 128, 512),                'preprocessing[0][2]']          \n",
      "                                 (None, 128, 512),                                                \n",
      "                                 (None, 128, 512)],                                               \n",
      "                                 'pooled_output': (                                               \n",
      "                                None, 512),                                                       \n",
      "                                 'sequence_output':                                               \n",
      "                                 (None, 128, 512),                                                \n",
      "                                 'default': (None,                                                \n",
      "                                512)}                                                             \n",
      "                                                                                                  \n",
      " dropout (Dropout)              (None, 512)          0           ['BERT_encoder[0][5]']           \n",
      "                                                                                                  \n",
      " classifier (Dense)             (None, 1)            513         ['dropout[0][0]']                \n",
      "                                                                                                  \n",
      "==================================================================================================\n",
      "Total params: 28,764,162\n",
      "Trainable params: 28,764,161\n",
      "Non-trainable params: 1\n",
      "__________________________________________________________________________________________________\n"
     ]
    }
   ]
  },
  {
   "cell_type": "markdown",
   "metadata": {
    "id": "xTNdHDXiSgQW",
    "pycharm": {
     "name": "#%% md\n"
    }
   },
   "source": [
    "#### 编译"
   ],
   "id": "xTNdHDXiSgQW"
  },
  {
   "cell_type": "code",
   "execution_count": null,
   "metadata": {
    "id": "Gqx8XNcMSiOj",
    "pycharm": {
     "name": "#%%\n"
    }
   },
   "outputs": [],
   "source": [
    "classifier_model.compile(optimizer='adam',\n",
    "              loss='binary_crossentropy',\n",
    "              metrics=METRICS)"
   ],
   "id": "Gqx8XNcMSiOj"
  },
  {
   "cell_type": "markdown",
   "metadata": {
    "id": "aBzxF0G9SqAZ",
    "pycharm": {
     "name": "#%% md\n"
    }
   },
   "source": [
    "#### 拟合"
   ],
   "id": "aBzxF0G9SqAZ"
  },
  {
   "cell_type": "code",
   "execution_count": null,
   "metadata": {
    "id": "Ompmc15AwBkA",
    "executionInfo": {
     "status": "ok",
     "timestamp": 1649860519026,
     "user_tz": -480,
     "elapsed": 45918,
     "user": {
      "displayName": "Burke Eathan",
      "userId": "17499359335581349339"
     }
    },
    "colab": {
     "base_uri": "https://localhost:8080/"
    },
    "outputId": "41acf1fd-9158-4a6e-d153-0991d2967d20",
    "pycharm": {
     "name": "#%%\n"
    }
   },
   "outputs": [
    {
     "output_type": "stream",
     "name": "stdout",
     "text": [
      "Epoch 1/5\n",
      "35/35 [==============================] - 12s 202ms/step - loss: 0.8899 - accuracy: 0.5071 - precision: 0.5081 - recall: 0.4482\n",
      "Epoch 2/5\n",
      "35/35 [==============================] - 7s 207ms/step - loss: 0.7096 - accuracy: 0.5321 - precision: 0.5312 - recall: 0.5464\n",
      "Epoch 3/5\n",
      "35/35 [==============================] - 7s 205ms/step - loss: 0.7749 - accuracy: 0.5009 - precision: 0.5008 - recall: 0.5500\n",
      "Epoch 4/5\n",
      "35/35 [==============================] - 7s 204ms/step - loss: 0.5168 - accuracy: 0.7518 - precision: 0.7573 - recall: 0.7411\n",
      "Epoch 5/5\n",
      "35/35 [==============================] - 7s 204ms/step - loss: 0.1612 - accuracy: 0.9652 - precision: 0.9780 - recall: 0.9518\n"
     ]
    }
   ],
   "source": [
    "history = classifier_model.fit(X_train, y_train, epochs=5)"
   ],
   "id": "Ompmc15AwBkA"
  },
  {
   "cell_type": "markdown",
   "metadata": {
    "id": "3mxCox1bSynf",
    "pycharm": {
     "name": "#%% md\n"
    }
   },
   "source": [
    "### 评估模型"
   ],
   "id": "3mxCox1bSynf"
  },
  {
   "cell_type": "code",
   "execution_count": null,
   "metadata": {
    "id": "DweVL9yuS0gH",
    "colab": {
     "base_uri": "https://localhost:8080/"
    },
    "executionInfo": {
     "status": "ok",
     "timestamp": 1649860520807,
     "user_tz": -480,
     "elapsed": 1789,
     "user": {
      "displayName": "Burke Eathan",
      "userId": "17499359335581349339"
     }
    },
    "outputId": "e70fdc03-7790-4890-cab6-4e48cc062650",
    "pycharm": {
     "name": "#%%\n"
    }
   },
   "outputs": [
    {
     "output_type": "stream",
     "name": "stdout",
     "text": [
      "12/12 [==============================] - 2s 104ms/step - loss: 0.2488 - accuracy: 0.9278 - precision: 0.9651 - recall: 0.8877\n",
      "Loss: 0.24882695078849792\n",
      "Accuracy: 0.9278075098991394\n",
      "Precision: 0.9651162624359131\n",
      "Recall: 0.8877005577087402\n"
     ]
    }
   ],
   "source": [
    "loss, accuracy, precision, recall = classifier_model.evaluate(X_test, y_test)\n",
    "\n",
    "print(f'Loss: {loss}')\n",
    "print(f'Accuracy: {accuracy}')\n",
    "print(f'Precision: {precision}')\n",
    "print(f'Recall: {recall}')"
   ],
   "id": "DweVL9yuS0gH"
  },
  {
   "cell_type": "code",
   "source": [
    "y_predicted = classifier_model.predict(X_test)\n",
    "y_predicted = y_predicted.flatten()"
   ],
   "metadata": {
    "id": "8ig0qOpo895P",
    "pycharm": {
     "name": "#%%\n"
    }
   },
   "id": "8ig0qOpo895P",
   "execution_count": null,
   "outputs": []
  },
  {
   "cell_type": "code",
   "source": [
    "import numpy as np\n",
    "\n",
    "y_predicted = np.where(y_predicted > 0.5, 1, 0)\n",
    "y_predicted"
   ],
   "metadata": {
    "id": "VNDgU5ld9Bh_",
    "colab": {
     "base_uri": "https://localhost:8080/"
    },
    "executionInfo": {
     "status": "ok",
     "timestamp": 1649860522625,
     "user_tz": -480,
     "elapsed": 54,
     "user": {
      "displayName": "Burke Eathan",
      "userId": "17499359335581349339"
     }
    },
    "outputId": "bf3b8b20-8962-4f7e-905e-b1b64eec03e9",
    "pycharm": {
     "name": "#%%\n"
    }
   },
   "id": "VNDgU5ld9Bh_",
   "execution_count": null,
   "outputs": [
    {
     "output_type": "execute_result",
     "data": {
      "text/plain": [
       "array([0, 0, 1, 0, 1, 0, 1, 0, 0, 0, 0, 1, 0, 0, 0, 0, 1, 0, 0, 0, 0, 0,\n",
       "       0, 0, 0, 1, 0, 0, 0, 0, 0, 0, 0, 0, 1, 0, 0, 1, 0, 0, 1, 0, 1, 0,\n",
       "       1, 1, 0, 0, 0, 0, 0, 1, 1, 0, 1, 0, 1, 1, 1, 1, 0, 0, 1, 1, 0, 0,\n",
       "       0, 1, 1, 1, 1, 0, 1, 1, 0, 1, 0, 1, 0, 0, 1, 1, 0, 0, 1, 0, 0, 0,\n",
       "       0, 1, 0, 0, 0, 0, 0, 0, 1, 0, 1, 0, 0, 1, 1, 1, 0, 1, 1, 1, 1, 0,\n",
       "       1, 0, 0, 1, 1, 1, 0, 0, 0, 1, 1, 0, 0, 0, 0, 0, 0, 0, 0, 1, 1, 1,\n",
       "       1, 1, 0, 1, 0, 1, 0, 0, 1, 1, 1, 1, 0, 0, 0, 1, 0, 1, 0, 1, 0, 0,\n",
       "       0, 0, 0, 1, 1, 1, 1, 0, 1, 1, 0, 0, 1, 0, 0, 1, 1, 0, 1, 0, 0, 1,\n",
       "       1, 0, 0, 1, 1, 1, 0, 1, 0, 0, 1, 1, 1, 0, 1, 0, 1, 1, 0, 1, 1, 0,\n",
       "       0, 1, 0, 1, 0, 1, 0, 0, 1, 0, 0, 0, 1, 0, 0, 0, 0, 1, 1, 1, 1, 1,\n",
       "       0, 0, 0, 1, 1, 0, 1, 1, 0, 1, 0, 1, 1, 1, 0, 1, 1, 1, 1, 1, 0, 1,\n",
       "       0, 0, 1, 1, 0, 1, 0, 1, 0, 0, 0, 1, 0, 1, 1, 0, 1, 1, 1, 1, 1, 0,\n",
       "       1, 1, 1, 1, 1, 0, 1, 0, 1, 0, 0, 0, 0, 1, 1, 0, 0, 1, 0, 1, 1, 1,\n",
       "       1, 0, 0, 1, 1, 0, 1, 0, 1, 1, 1, 0, 1, 1, 1, 1, 0, 0, 1, 0, 1, 0,\n",
       "       1, 0, 1, 1, 1, 1, 0, 1, 0, 1, 0, 1, 0, 0, 1, 1, 1, 0, 0, 1, 0, 1,\n",
       "       1, 0, 0, 0, 0, 1, 1, 0, 0, 0, 1, 0, 0, 0, 1, 1, 0, 0, 0, 0, 0, 0,\n",
       "       1, 0, 0, 0, 0, 0, 0, 0, 0, 0, 1, 0, 0, 1, 0, 1, 0, 1, 0, 0, 0, 0])"
      ]
     },
     "metadata": {},
     "execution_count": 161
    }
   ]
  },
  {
   "cell_type": "markdown",
   "metadata": {
    "id": "S_fl_61WS3Yz",
    "pycharm": {
     "name": "#%% md\n"
    }
   },
   "source": [
    "### 绘图"
   ],
   "id": "S_fl_61WS3Yz"
  },
  {
   "cell_type": "code",
   "source": [
    "from sklearn.metrics import confusion_matrix, classification_report\n",
    "\n",
    "cm = confusion_matrix(y_test, y_predicted)\n",
    "cm "
   ],
   "metadata": {
    "id": "XtivsyYy9Hdy",
    "colab": {
     "base_uri": "https://localhost:8080/"
    },
    "executionInfo": {
     "status": "ok",
     "timestamp": 1649860522627,
     "user_tz": -480,
     "elapsed": 49,
     "user": {
      "displayName": "Burke Eathan",
      "userId": "17499359335581349339"
     }
    },
    "outputId": "c2f1790c-cb40-45ca-bcf0-2579f87c9712",
    "pycharm": {
     "name": "#%%\n"
    }
   },
   "id": "XtivsyYy9Hdy",
   "execution_count": null,
   "outputs": [
    {
     "output_type": "execute_result",
     "data": {
      "text/plain": [
       "array([[181,   6],\n",
       "       [ 21, 166]])"
      ]
     },
     "metadata": {},
     "execution_count": 162
    }
   ]
  },
  {
   "cell_type": "code",
   "source": [
    "from matplotlib import pyplot as plt\n",
    "import seaborn as sn\n",
    "sn.heatmap(cm, annot=True, fmt='d')\n",
    "plt.xlabel('Predicted')\n",
    "plt.ylabel('Truth')"
   ],
   "metadata": {
    "id": "fX8ZWPcN9Lyk",
    "colab": {
     "base_uri": "https://localhost:8080/",
     "height": 300
    },
    "executionInfo": {
     "status": "ok",
     "timestamp": 1649860522628,
     "user_tz": -480,
     "elapsed": 39,
     "user": {
      "displayName": "Burke Eathan",
      "userId": "17499359335581349339"
     }
    },
    "outputId": "89e51e01-510a-481e-9972-2ec3f970a1c2",
    "pycharm": {
     "name": "#%%\n"
    }
   },
   "id": "fX8ZWPcN9Lyk",
   "execution_count": null,
   "outputs": [
    {
     "output_type": "execute_result",
     "data": {
      "text/plain": [
       "Text(33.0, 0.5, 'Truth')"
      ]
     },
     "metadata": {},
     "execution_count": 163
    },
    {
     "output_type": "display_data",
     "data": {
      "text/plain": [
       "<Figure size 432x288 with 2 Axes>"
      ],
      "image/png": "[encoded data removed]"
     },
     "metadata": {
      "needs_background": "light"
     }
    }
   ]
  },
  {
   "cell_type": "code",
   "source": [
    "print(classification_report(y_test, y_predicted))"
   ],
   "metadata": {
    "id": "5dyGiKG99OZF",
    "colab": {
     "base_uri": "https://localhost:8080/"
    },
    "executionInfo": {
     "status": "ok",
     "timestamp": 1649860522629,
     "user_tz": -480,
     "elapsed": 29,
     "user": {
      "displayName": "Burke Eathan",
      "userId": "17499359335581349339"
     }
    },
    "outputId": "1af0345e-9d0d-4e95-c476-46ad01cac03a",
    "pycharm": {
     "name": "#%%\n"
    }
   },
   "id": "5dyGiKG99OZF",
   "execution_count": null,
   "outputs": [
    {
     "output_type": "stream",
     "name": "stdout",
     "text": [
      "              precision    recall  f1-score   support\n",
      "\n",
      "           0       0.90      0.97      0.93       187\n",
      "           1       0.97      0.89      0.92       187\n",
      "\n",
      "    accuracy                           0.93       374\n",
      "   macro avg       0.93      0.93      0.93       374\n",
      "weighted avg       0.93      0.93      0.93       374\n",
      "\n"
     ]
    }
   ]
  },
  {
   "cell_type": "code",
   "execution_count": null,
   "metadata": {
    "id": "z8rScaKuS-Nd",
    "pycharm": {
     "name": "#%%\n"
    }
   },
   "outputs": [],
   "source": [
    "# history_dict = history.history\n",
    "# print(history_dict.keys())\n",
    "\n",
    "# acc = history_dict['binary_accuracy']\n",
    "# val_acc = history_dict['val_binary_accuracy']\n",
    "# loss = history_dict['loss']\n",
    "# val_loss = history_dict['val_loss']\n",
    "\n",
    "# epochs = range(1, len(acc) + 1)\n",
    "# fig = plt.figure(figsize=(10, 6))\n",
    "# fig.tight_layout()\n",
    "\n",
    "# plt.subplot(2, 1, 1)\n",
    "# # r is for \"solid red line\"\n",
    "# plt.plot(epochs, loss, 'r', label='Training loss')\n",
    "# # b is for \"solid blue line\"\n",
    "# plt.plot(epochs, val_loss, 'b', label='Validation loss')\n",
    "# plt.title('Training and validation loss')\n",
    "# # plt.xlabel('Epochs')\n",
    "# plt.ylabel('Loss')\n",
    "# plt.legend()\n",
    "\n",
    "# plt.subplot(2, 1, 2)\n",
    "# plt.plot(epochs, acc, 'r', label='Training acc')\n",
    "# plt.plot(epochs, val_acc, 'b', label='Validation acc')\n",
    "# plt.title('Training and validation accuracy')\n",
    "# plt.xlabel('Epochs')\n",
    "# plt.ylabel('Accuracy')\n",
    "# plt.legend(loc='lower right')"
   ],
   "id": "z8rScaKuS-Nd"
  },
  {
   "cell_type": "markdown",
   "metadata": {
    "id": "VtPb5x1kTC7I",
    "pycharm": {
     "name": "#%% md\n"
    }
   },
   "source": [
    "### 导出模型"
   ],
   "id": "VtPb5x1kTC7I"
  },
  {
   "cell_type": "code",
   "source": [
    "!mkdir -p saved_model"
   ],
   "metadata": {
    "id": "QEvTGYQ4GpIl",
    "pycharm": {
     "name": "#%%\n"
    }
   },
   "id": "QEvTGYQ4GpIl",
   "execution_count": null,
   "outputs": []
  },
  {
   "cell_type": "code",
   "execution_count": null,
   "metadata": {
    "id": "OUCFk-PJTG3W",
    "pycharm": {
     "name": "#%%\n"
    }
   },
   "outputs": [],
   "source": [
    "dataset_name = 'sms'\n",
    "saved_model_path = '/content/gdrive/MyDrive/SpamDetection/saved_model/{}_bert_model_en'.format(dataset_name.replace('/', '_'))"
   ],
   "id": "OUCFk-PJTG3W"
  },
  {
   "cell_type": "code",
   "source": [
    "classifier_model.save(saved_model_path, include_optimizer=False)"
   ],
   "metadata": {
    "id": "KlCG3tOB5Lqv",
    "pycharm": {
     "name": "#%%\n"
    }
   },
   "id": "KlCG3tOB5Lqv",
   "execution_count": null,
   "outputs": []
  },
  {
   "cell_type": "markdown",
   "metadata": {
    "id": "45YsgC9ETUZB",
    "pycharm": {
     "name": "#%% md\n"
    }
   },
   "source": [
    "### 样本预测"
   ],
   "id": "45YsgC9ETUZB"
  },
  {
   "cell_type": "code",
   "source": [
    "reviews = [\n",
    "    'Enter a chance to win $5000, hurry up, offer valid until march 31, 2021',\n",
    "    'You are awarded a SiPix Digital Camera! call 09061221061 from landline. Delivery within 28days. T Cs Box177. M221BP. 2yr warranty. 150ppm. 16 . p pÂ£3.99',\n",
    "    'it to 80488. Your 500 free text messages are valid until 31 December 2005.',\n",
    "    'Hey Sam, Are you coming for a cricket game tomorrow',\n",
    "    \"Why don't you wait 'til at least wednesday to see if you get your .\",\n",
    "    \"WINNER!! As a valued network customer you have been selected to receivea å£900 prize reward! To claim call 09061701461. Claim code KL341. Valid 12 hours only.\",\n",
    "    \"SIX chances to win CASH! From 100 to 20,000 pounds txt> CSH11 and send to 87575. Cost 150p/day, 6days, 16+ TsandCs apply Reply HL 4 info\",\n",
    "    \"I'm gonna be home soon and i don't want to talk about this stuff anymore tonight, k? I've cried enough today.\",\n",
    "    \"I HAVE A DATE ON SUNDAY WITH WILL!!\",\n",
    "]"
   ],
   "metadata": {
    "id": "JfM5MJ6zmFIh",
    "pycharm": {
     "name": "#%%\n"
    }
   },
   "id": "JfM5MJ6zmFIh",
   "execution_count": null,
   "outputs": []
  },
  {
   "cell_type": "code",
   "source": [
    "def print_my_examples(inputs, results):\n",
    "  result_for_printing = \\\n",
    "    [f'input: {inputs[i]:<30} : spam: {results[i][0]:.6f}'\n",
    "                         for i in range(len(inputs))]\n",
    "  print(*result_for_printing, sep='\\n')\n",
    "  print()"
   ],
   "metadata": {
    "id": "5TyCrnXl4Mna",
    "pycharm": {
     "name": "#%%\n"
    }
   },
   "id": "5TyCrnXl4Mna",
   "execution_count": null,
   "outputs": []
  },
  {
   "cell_type": "code",
   "execution_count": null,
   "metadata": {
    "id": "lJa06UHsTXHV",
    "colab": {
     "base_uri": "https://localhost:8080/",
     "height": 220
    },
    "executionInfo": {
     "status": "error",
     "timestamp": 1649858018658,
     "user_tz": -480,
     "elapsed": 10202,
     "user": {
      "displayName": "Burke Eathan",
      "userId": "17499359335581349339"
     }
    },
    "outputId": "3e83baf5-0b76-4790-e173-65e2d36ed2fd",
    "pycharm": {
     "name": "#%%\n"
    }
   },
   "outputs": [
    {
     "output_type": "error",
     "ename": "AttributeError",
     "evalue": "ignored",
     "traceback": [
      "\u001B[0;31m---------------------------------------------------------------------------\u001B[0m",
      "\u001B[0;31mAttributeError\u001B[0m                            Traceback (most recent call last)",
      "\u001B[0;32m<ipython-input-116-bbfb6a3ddcbe>\u001B[0m in \u001B[0;36m<module>\u001B[0;34m()\u001B[0m\n\u001B[1;32m      1\u001B[0m \u001B[0mreloaded_model\u001B[0m \u001B[0;34m=\u001B[0m \u001B[0mtf\u001B[0m\u001B[0;34m.\u001B[0m\u001B[0msaved_model\u001B[0m\u001B[0;34m.\u001B[0m\u001B[0mload\u001B[0m\u001B[0;34m(\u001B[0m\u001B[0msaved_model_path\u001B[0m\u001B[0;34m)\u001B[0m\u001B[0;34m\u001B[0m\u001B[0;34m\u001B[0m\u001B[0m\n\u001B[0;32m----> 2\u001B[0;31m \u001B[0mreloaded_results\u001B[0m \u001B[0;34m=\u001B[0m \u001B[0mreloaded_model\u001B[0m\u001B[0;34m.\u001B[0m\u001B[0mpredict\u001B[0m\u001B[0;34m(\u001B[0m\u001B[0mreviews\u001B[0m\u001B[0;34m)\u001B[0m\u001B[0;34m.\u001B[0m\u001B[0mflatten\u001B[0m\u001B[0;34m(\u001B[0m\u001B[0;34m)\u001B[0m\u001B[0;34m\u001B[0m\u001B[0;34m\u001B[0m\u001B[0m\n\u001B[0m\u001B[1;32m      3\u001B[0m \u001B[0mprint\u001B[0m\u001B[0;34m(\u001B[0m\u001B[0mreloaded_results\u001B[0m\u001B[0;34m)\u001B[0m\u001B[0;34m\u001B[0m\u001B[0;34m\u001B[0m\u001B[0m\n\u001B[1;32m      4\u001B[0m \u001B[0mreloaded_results\u001B[0m \u001B[0;34m=\u001B[0m \u001B[0mnp\u001B[0m\u001B[0;34m.\u001B[0m\u001B[0mwhere\u001B[0m\u001B[0;34m(\u001B[0m\u001B[0my_predicted\u001B[0m \u001B[0;34m>\u001B[0m \u001B[0;36m0.5\u001B[0m\u001B[0;34m,\u001B[0m \u001B[0;36m1\u001B[0m\u001B[0;34m,\u001B[0m \u001B[0;36m0\u001B[0m\u001B[0;34m)\u001B[0m\u001B[0;34m\u001B[0m\u001B[0;34m\u001B[0m\u001B[0m\n",
      "\u001B[0;31mAttributeError\u001B[0m: '_UserObject' object has no attribute 'predict'"
     ]
    }
   ],
   "source": [
    "reloaded_model = tf.saved_model.load(saved_model_path)\n",
    "reloaded_results = reloaded_model.predict(reviews).flatten()\n",
    "print(reloaded_results)\n",
    "reloaded_results = np.where(y_predicted > 0.5, 1, 0)"
   ],
   "id": "lJa06UHsTXHV"
  },
  {
   "cell_type": "code",
   "source": [
    "print_my_examples(reviews, reloaded_model(tf.constant(reviews)))"
   ],
   "metadata": {
    "colab": {
     "base_uri": "https://localhost:8080/"
    },
    "id": "WNVV2j4ZNGFo",
    "executionInfo": {
     "status": "ok",
     "timestamp": 1649860622482,
     "user_tz": -480,
     "elapsed": 972,
     "user": {
      "displayName": "Burke Eathan",
      "userId": "17499359335581349339"
     }
    },
    "outputId": "37023f97-e0f2-4087-800b-4be2e5a43e0b",
    "pycharm": {
     "name": "#%%\n"
    }
   },
   "id": "WNVV2j4ZNGFo",
   "execution_count": null,
   "outputs": [
    {
     "output_type": "stream",
     "name": "stdout",
     "text": [
      "input: Enter a chance to win $5000, hurry up, offer valid until march 31, 2021 : spam: 0.185306\n",
      "input: You are awarded a SiPix Digital Camera! call 09061221061 from landline. Delivery within 28days. T Cs Box177. M221BP. 2yr warranty. 150ppm. 16 . p pÂ£3.99 : spam: 0.964094\n",
      "input: it to 80488. Your 500 free text messages are valid until 31 December 2005. : spam: 0.983871\n",
      "input: Hey Sam, Are you coming for a cricket game tomorrow : spam: 0.186421\n",
      "input: Why don't you wait 'til at least wednesday to see if you get your . : spam: 0.186671\n",
      "input: WINNER!! As a valued network customer you have been selected to receivea å£900 prize reward! To claim call 09061701461. Claim code KL341. Valid 12 hours only. : spam: 0.992766\n",
      "input: SIX chances to win CASH! From 100 to 20,000 pounds txt> CSH11 and send to 87575. Cost 150p/day, 6days, 16+ TsandCs apply Reply HL 4 info : spam: 0.990383\n",
      "input: I'm gonna be home soon and i don't want to talk about this stuff anymore tonight, k? I've cried enough today. : spam: 0.186467\n",
      "input: I HAVE A DATE ON SUNDAY WITH WILL!! : spam: 0.186445\n",
      "\n"
     ]
    }
   ]
  },
  {
   "cell_type": "code",
   "source": [
    "print('Results from the saved model:')\n",
    "print_my_examples(reviews, reloaded_results)"
   ],
   "metadata": {
    "id": "lpyVdo6b4TZ8",
    "pycharm": {
     "name": "#%%\n"
    }
   },
   "id": "lpyVdo6b4TZ8",
   "execution_count": null,
   "outputs": []
  }
 ],
 "metadata": {
  "accelerator": "GPU",
  "colab": {
   "collapsed_sections": [
    "dtAQ0U9sQeRD"
   ],
   "name": "bert_model_en.ipynb",
   "provenance": [
    {
     "file_id": "1TNFZ7qdxxBY6IBBzzRJEX5QixHpC4h9N",
     "timestamp": 1649853269153
    }
   ]
  },
  "kernelspec": {
   "display_name": "Python 3 (ipykernel)",
   "language": "python",
   "name": "python3"
  },
  "language_info": {
   "codemirror_mode": {
    "name": "ipython",
    "version": 3
   },
   "file_extension": ".py",
   "mimetype": "text/x-python",
   "name": "python",
   "nbconvert_exporter": "python",
   "pygments_lexer": "ipython3",
   "version": "3.10.2"
  }
 },
 "nbformat": 4,
 "nbformat_minor": 5
}